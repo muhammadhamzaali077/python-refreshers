{
  "nbformat": 4,
  "nbformat_minor": 0,
  "metadata": {
    "colab": {
      "provenance": []
    },
    "kernelspec": {
      "name": "python3",
      "display_name": "Python 3"
    },
    "language_info": {
      "name": "python"
    }
  },
  "cells": [
    {
      "cell_type": "code",
      "source": [
        "from typing import List\n",
        "user_1 :List[str] = [\"Hamza\",\"M.Aslam\",\"51\",\"24\"]\n",
        "print(user_1)\n",
        "print(user_1[0])\n",
        "print(user_1[1])\n",
        "print(user_1[2])\n",
        "print(user_1[3])\n"
      ],
      "metadata": {
        "colab": {
          "base_uri": "https://localhost:8080/"
        },
        "id": "n1zEi4mEaeDX",
        "outputId": "f7c2866b-7d64-489d-85d8-f92169d74268"
      },
      "execution_count": 1,
      "outputs": [
        {
          "output_type": "stream",
          "name": "stdout",
          "text": [
            "['Hamza', 'M.Aslam', '51', '24']\n",
            "Hamza\n",
            "M.Aslam\n",
            "51\n",
            "24\n"
          ]
        }
      ]
    },
    {
      "cell_type": "markdown",
      "source": [
        "# Dictionary\n",
        "* key\n",
        "  * replace indexing\n",
        "* Value\n",
        "\n",
        "## Syntax\n",
        "```\n",
        "data:Dict[str,str] = {\"key\":\"Value\", \"Kaye_1\":\"value_1\"}\n",
        "```"
      ],
      "metadata": {
        "id": "_w2nwkALbOsZ"
      }
    },
    {
      "cell_type": "code",
      "source": [
        "from typing import Dict\n",
        "data :Dict[str,str] = {\"name\":\"Hamza\", \"father_name\" : \"Muhammad Aslam\", \"id\" : \"51\"}\n",
        "print(data)\n",
        "# print(data[0]) # Error\n",
        "print(data[\"name\"])\n",
        "print(data[\"father_name\"])\n",
        "print(data[\"id\"])"
      ],
      "metadata": {
        "colab": {
          "base_uri": "https://localhost:8080/"
        },
        "id": "Jgw8HM_mbTfG",
        "outputId": "1505a783-9338-4eab-a416-6608989193bb"
      },
      "execution_count": 5,
      "outputs": [
        {
          "output_type": "stream",
          "name": "stdout",
          "text": [
            "{'name': 'Hamza', 'father_name': 'Muhammad Aslam', 'id': '51'}\n",
            "Hamza\n",
            "Muhammad Aslam\n",
            "51\n"
          ]
        }
      ]
    },
    {
      "cell_type": "markdown",
      "source": [
        "* All date types we can pass in value"
      ],
      "metadata": {
        "id": "aXn5DS8vfhi5"
      }
    },
    {
      "cell_type": "code",
      "source": [
        "from typing import Dict\n",
        "data = {\"name\":\"Hamza\",\n",
        "        \"father_name\" : \"Muhammad Aslam\",\n",
        "        \"id\" : 51,\n",
        "        \"percentage\" : 94.6,\n",
        "        \"list\" : [1,2,\"ali\"],\n",
        "        \"dict\" : {\"a\" : 1, \"b\" : 2},\n",
        "        \"tuple\" : (1,2,3),\n",
        "        \"set\" : {1,2,3},\n",
        "        \"bool\" : True\n",
        "        }\n",
        "# print(data)\n",
        "display(data)"
      ],
      "metadata": {
        "colab": {
          "base_uri": "https://localhost:8080/",
          "height": 173
        },
        "id": "yanaxbLyd10V",
        "outputId": "21652c81-80b8-4fad-e8ab-d4bc7ddea24a"
      },
      "execution_count": 18,
      "outputs": [
        {
          "output_type": "display_data",
          "data": {
            "text/plain": [
              "{'name': 'Hamza',\n",
              " 'father_name': 'Muhammad Aslam',\n",
              " 'id': 51,\n",
              " 'percentage': 94.6,\n",
              " 'list': [1, 2, 'ali'],\n",
              " 'dict': {'a': 1, 'b': 2},\n",
              " 'tuple': (1, 2, 3),\n",
              " 'set': {1, 2, 3},\n",
              " 'bool': True}"
            ]
          },
          "metadata": {}
        }
      ]
    },
    {
      "cell_type": "markdown",
      "source": [
        "# key Types\n",
        "* string\n",
        "* inetger\n",
        "* float\n",
        "* tuple\n",
        "* bool"
      ],
      "metadata": {
        "id": "Y39gvX_Pge5v"
      }
    },
    {
      "cell_type": "code",
      "source": [
        "from typing import Dict\n",
        "data = {\"name\":\"Hamza\",\n",
        "        \"father_name\" : \"Muhammad Aslam\",\n",
        "        51: \"id\",\n",
        "        94.6 : \"percentage\",\n",
        "        # [1,2,\"ali\"] : \"list\", # Error\n",
        "        # {\"a\" : 1, \"b\" : 2} : \"dict\", #Error\n",
        "        (1,2,3,4) : \"tuple\",\n",
        "        # {1,2,3} : \"set\", # Error\n",
        "        True : \"bool\"\n",
        "        }\n",
        "display(data)"
      ],
      "metadata": {
        "colab": {
          "base_uri": "https://localhost:8080/",
          "height": 121
        },
        "id": "Wrb1ulr2fqC4",
        "outputId": "33f70898-caa1-469b-b1ba-82ffbe1ddc27"
      },
      "execution_count": 22,
      "outputs": [
        {
          "output_type": "display_data",
          "data": {
            "text/plain": [
              "{'name': 'Hamza',\n",
              " 'father_name': 'Muhammad Aslam',\n",
              " 51: 'id',\n",
              " 94.6: 'percentage',\n",
              " (1, 2, 3, 4): 'tuple',\n",
              " True: 'bool'}"
            ]
          },
          "metadata": {}
        }
      ]
    },
    {
      "cell_type": "markdown",
      "source": [
        "# Update Value"
      ],
      "metadata": {
        "id": "zqNxbjO_iThs"
      }
    },
    {
      "cell_type": "code",
      "source": [
        "from typing import Dict\n",
        "data :Dict[str,str] = {\"name\":\"Hamza\",\n",
        "        \"father_name\" : \"Muhammad Aslam\",\n",
        "        }\n",
        "display(data)\n",
        "data[\"name\"] = \"Muhammad Hamza\"\n",
        "display(data)\n"
      ],
      "metadata": {
        "colab": {
          "base_uri": "https://localhost:8080/",
          "height": 52
        },
        "id": "_MlOaTMmhi0-",
        "outputId": "3e7030d9-02f0-476a-b41c-de1ba3903ca1"
      },
      "execution_count": 26,
      "outputs": [
        {
          "output_type": "display_data",
          "data": {
            "text/plain": [
              "{'name': 'Hamza', 'father_name': 'Muhammad Aslam'}"
            ]
          },
          "metadata": {}
        },
        {
          "output_type": "display_data",
          "data": {
            "text/plain": [
              "{'name': 'Muhammad Hamza', 'father_name': 'Muhammad Aslam'}"
            ]
          },
          "metadata": {}
        }
      ]
    },
    {
      "cell_type": "markdown",
      "source": [
        "# Add new item"
      ],
      "metadata": {
        "id": "27uz85P9iWxL"
      }
    },
    {
      "cell_type": "code",
      "source": [
        "from typing import Dict\n",
        "data :Dict[str,str] = {\"name\":\"Hamza\",\n",
        "        \"father_name\" : \"Muhammad Aslam\",\n",
        "        }\n",
        "data[\"age\"] = \"19\"\n",
        "data[\"city\"] = \"Karachi\"\n",
        "data[\"city\"] = \"Islamabad\"\n",
        "\n",
        "display(data)"
      ],
      "metadata": {
        "colab": {
          "base_uri": "https://localhost:8080/",
          "height": 86
        },
        "id": "pTPD6UIJibgL",
        "outputId": "a097d82b-cbfb-4622-d092-dc7fa858b5ec"
      },
      "execution_count": 30,
      "outputs": [
        {
          "output_type": "display_data",
          "data": {
            "text/plain": [
              "{'name': 'Hamza',\n",
              " 'father_name': 'Muhammad Aslam',\n",
              " 'age': '19',\n",
              " 'city': 'Islamabad'}"
            ]
          },
          "metadata": {}
        }
      ]
    },
    {
      "cell_type": "markdown",
      "source": [
        "# Methods of Dict Type"
      ],
      "metadata": {
        "id": "PAb4puO0kIXY"
      }
    },
    {
      "cell_type": "code",
      "source": [
        "for i in dir(data):\n",
        "  print(i)"
      ],
      "metadata": {
        "id": "36bptrS1jeua"
      },
      "execution_count": null,
      "outputs": []
    },
    {
      "cell_type": "code",
      "source": [
        "[i for i in dir(data) if \"__\" not in i]"
      ],
      "metadata": {
        "colab": {
          "base_uri": "https://localhost:8080/"
        },
        "id": "WRoGO1RgjGHM",
        "outputId": "d2aa5dbd-3947-4dd2-cbbc-51b6f03a5922"
      },
      "execution_count": 34,
      "outputs": [
        {
          "output_type": "execute_result",
          "data": {
            "text/plain": [
              "['clear',\n",
              " 'copy',\n",
              " 'fromkeys',\n",
              " 'get',\n",
              " 'items',\n",
              " 'keys',\n",
              " 'pop',\n",
              " 'popitem',\n",
              " 'setdefault',\n",
              " 'update',\n",
              " 'values']"
            ]
          },
          "metadata": {},
          "execution_count": 34
        }
      ]
    },
    {
      "cell_type": "markdown",
      "source": [
        "# Clear\n",
        "* remove all item from dictionary"
      ],
      "metadata": {
        "id": "DwlnX8Vikn6H"
      }
    },
    {
      "cell_type": "code",
      "source": [
        "from typing import Dict\n",
        "data :Dict[str,str] = {\"name\":\"Hamza\",\n",
        "        \"father_name\" : \"Muhammad Aslam\",\n",
        "        }\n",
        "display(\"before\",data)\n",
        "data.clear()\n",
        "display(\"after\", data)"
      ],
      "metadata": {
        "colab": {
          "base_uri": "https://localhost:8080/",
          "height": 89
        },
        "id": "YR_KXro5kMxX",
        "outputId": "65f8d4cc-1c80-404f-d467-995be13a23e6"
      },
      "execution_count": 35,
      "outputs": [
        {
          "output_type": "display_data",
          "data": {
            "text/plain": [
              "'before'"
            ],
            "application/vnd.google.colaboratory.intrinsic+json": {
              "type": "string"
            }
          },
          "metadata": {}
        },
        {
          "output_type": "display_data",
          "data": {
            "text/plain": [
              "{'name': 'Hamza', 'father_name': 'Muhammad Aslam'}"
            ]
          },
          "metadata": {}
        },
        {
          "output_type": "display_data",
          "data": {
            "text/plain": [
              "'after'"
            ],
            "application/vnd.google.colaboratory.intrinsic+json": {
              "type": "string"
            }
          },
          "metadata": {}
        },
        {
          "output_type": "display_data",
          "data": {
            "text/plain": [
              "{}"
            ]
          },
          "metadata": {}
        }
      ]
    },
    {
      "cell_type": "markdown",
      "source": [
        "# copy\n",
        "* provide a shallow copy"
      ],
      "metadata": {
        "id": "dNQ38FkikvnO"
      }
    },
    {
      "cell_type": "code",
      "source": [
        "from typing import Dict\n",
        "data :Dict[str,str] = {\"name\":\"Hamza\",\n",
        "        \"father_name\" : \"Muhammad Aslam\",\n",
        "        }\n",
        "new_data :Dict[str,str] = data\n",
        "new_data[\"name\"] = \"Muhammad Hamza\"\n",
        "display(data)\n",
        "display(new_data)"
      ],
      "metadata": {
        "id": "z4OITF92k1Un"
      },
      "execution_count": null,
      "outputs": []
    },
    {
      "cell_type": "code",
      "source": [
        "from typing import Dict\n",
        "data :Dict[str,str] = {\"name\":\"Hamza\",\n",
        "        \"father_name\" : \"Muhammad Aslam\",\n",
        "        }\n",
        "new_data :Dict[str,str] = data.copy()\n",
        "new_data[\"name\"] = \"Muhammad Hamza\"\n",
        "display(data)\n",
        "display(new_data)"
      ],
      "metadata": {
        "colab": {
          "base_uri": "https://localhost:8080/",
          "height": 52
        },
        "id": "mezIfioQleSu",
        "outputId": "d8e1790a-7a5d-47ee-df3b-6418e591c191"
      },
      "execution_count": 38,
      "outputs": [
        {
          "output_type": "display_data",
          "data": {
            "text/plain": [
              "{'name': 'Hamza', 'father_name': 'Muhammad Aslam'}"
            ]
          },
          "metadata": {}
        },
        {
          "output_type": "display_data",
          "data": {
            "text/plain": [
              "{'name': 'Muhammad Hamza', 'father_name': 'Muhammad Aslam'}"
            ]
          },
          "metadata": {}
        }
      ]
    },
    {
      "cell_type": "markdown",
      "source": [
        "# Get\n",
        "* provide value if exist in dictionary\n",
        "* return by default None you can change it"
      ],
      "metadata": {
        "id": "8KwQS10JlzjN"
      }
    },
    {
      "cell_type": "code",
      "source": [
        "from typing import Dict\n",
        "data :Dict[str,str] = {\"name\":\"Hamza\",\n",
        "        \"father_name\" : \"Muhammad Aslam\",\n",
        "        }\n",
        "display(data[\"name\"])\n",
        "display(data[\"age\"])"
      ],
      "metadata": {
        "id": "t_seZNVimB4c"
      },
      "execution_count": null,
      "outputs": []
    },
    {
      "cell_type": "code",
      "source": [
        "from typing import Dict\n",
        "data :Dict[str,str] = {\"name\":\"Hamza\",\n",
        "        \"father_name\" : \"Muhammad Aslam\",\n",
        "        }\n",
        "display(data.get(\"name\",\"not found\"))\n",
        "display(data.get(\"age\",\"not found\"))"
      ],
      "metadata": {
        "colab": {
          "base_uri": "https://localhost:8080/",
          "height": 54
        },
        "id": "um8gjvgomd7j",
        "outputId": "71b8729d-ec40-4129-9d58-c6d1b694b94c"
      },
      "execution_count": 44,
      "outputs": [
        {
          "output_type": "display_data",
          "data": {
            "text/plain": [
              "'Hamza'"
            ],
            "application/vnd.google.colaboratory.intrinsic+json": {
              "type": "string"
            }
          },
          "metadata": {}
        },
        {
          "output_type": "display_data",
          "data": {
            "text/plain": [
              "'not found'"
            ],
            "application/vnd.google.colaboratory.intrinsic+json": {
              "type": "string"
            }
          },
          "metadata": {}
        }
      ]
    },
    {
      "cell_type": "markdown",
      "source": [
        "# Items\n",
        "* return lis of tuple"
      ],
      "metadata": {
        "id": "mJ1MP309nFKb"
      }
    },
    {
      "cell_type": "code",
      "source": [
        "from typing import Dict\n",
        "data :Dict[str,str] = {\"name\":\"Hamza\",\n",
        "        \"father_name\" : \"Muhammad Aslam\",\n",
        "        }\n",
        "items = data.items()\n",
        "display(items)"
      ],
      "metadata": {
        "colab": {
          "base_uri": "https://localhost:8080/",
          "height": 34
        },
        "id": "qvdgElu8nIqW",
        "outputId": "c7333475-8364-4fb3-ab06-ac08712ac209"
      },
      "execution_count": 47,
      "outputs": [
        {
          "output_type": "display_data",
          "data": {
            "text/plain": [
              "dict_items([('name', 'Hamza'), ('father_name', 'Muhammad Aslam')])"
            ]
          },
          "metadata": {}
        }
      ]
    },
    {
      "cell_type": "markdown",
      "source": [
        "# keys\n",
        "* return all the keys in dictionary"
      ],
      "metadata": {
        "id": "h1nbPj1Fnzhi"
      }
    },
    {
      "cell_type": "code",
      "source": [
        "from typing import Dict\n",
        "data :Dict[str,str] = {\"name\":\"Hamza\",\n",
        "        \"father_name\" : \"Muhammad Aslam\",\n",
        "        }\n",
        "display(data.keys())"
      ],
      "metadata": {
        "colab": {
          "base_uri": "https://localhost:8080/",
          "height": 34
        },
        "id": "qWwwFDFpn4z5",
        "outputId": "a83af1bd-7b3e-48c1-b346-0ecd2b6ad711"
      },
      "execution_count": 48,
      "outputs": [
        {
          "output_type": "display_data",
          "data": {
            "text/plain": [
              "dict_keys(['name', 'father_name'])"
            ]
          },
          "metadata": {}
        }
      ]
    },
    {
      "cell_type": "markdown",
      "source": [
        "# Values\n",
        "* return all Values"
      ],
      "metadata": {
        "id": "zI-Ij6ZHoENb"
      }
    },
    {
      "cell_type": "code",
      "source": [
        "from typing import Dict\n",
        "data :Dict[str,str] = {\"name\":\"Hamza\",\n",
        "        \"father_name\" : \"Muhammad Aslam\",\n",
        "        }\n",
        "display(data.values())"
      ],
      "metadata": {
        "colab": {
          "base_uri": "https://localhost:8080/",
          "height": 34
        },
        "id": "vIIxR-u7oLzp",
        "outputId": "342f41ec-5796-419d-e0b3-fc4a722629d9"
      },
      "execution_count": 49,
      "outputs": [
        {
          "output_type": "display_data",
          "data": {
            "text/plain": [
              "dict_values(['Hamza', 'Muhammad Aslam'])"
            ]
          },
          "metadata": {}
        }
      ]
    },
    {
      "cell_type": "markdown",
      "source": [
        "# pop\n",
        "* remove a key and value (item)"
      ],
      "metadata": {
        "id": "UY-pyqKnokOY"
      }
    },
    {
      "cell_type": "code",
      "source": [
        "from typing import Dict\n",
        "data :Dict[str,str] = {\"name\":\"Hamza\",\n",
        "        \"father_name\" : \"Muhammad Aslam\",\n",
        "        \"id\" : 51,\n",
        "        \"percentage\" : 94.6,\n",
        "        }\n",
        "display(data)\n",
        "display(data.pop(\"id\"))\n",
        "display(data)"
      ],
      "metadata": {
        "colab": {
          "base_uri": "https://localhost:8080/",
          "height": 121
        },
        "id": "wKx2nGANouER",
        "outputId": "e11d4d53-8f80-4f63-c103-0766ed7a490e"
      },
      "execution_count": 53,
      "outputs": [
        {
          "output_type": "display_data",
          "data": {
            "text/plain": [
              "{'name': 'Hamza',\n",
              " 'father_name': 'Muhammad Aslam',\n",
              " 'id': 51,\n",
              " 'percentage': 94.6}"
            ]
          },
          "metadata": {}
        },
        {
          "output_type": "display_data",
          "data": {
            "text/plain": [
              "51"
            ]
          },
          "metadata": {}
        },
        {
          "output_type": "display_data",
          "data": {
            "text/plain": [
              "{'name': 'Hamza', 'father_name': 'Muhammad Aslam', 'percentage': 94.6}"
            ]
          },
          "metadata": {}
        }
      ]
    },
    {
      "cell_type": "markdown",
      "source": [
        "# popitem\n",
        "* remove last item from dictionary"
      ],
      "metadata": {
        "id": "93WheQ8GpkuP"
      }
    },
    {
      "cell_type": "code",
      "source": [
        "from typing import Dict\n",
        "data :Dict[str,str] = {\"name\":\"Hamza\",\n",
        "        \"father_name\" : \"Muhammad Aslam\",\n",
        "        \"id\" : 51,\n",
        "        \"percentage\" : 94.6,\n",
        "        }\n",
        "display(\"before\", data)\n",
        "display(data.popitem())\n",
        "display(\"Afer\", data)"
      ],
      "metadata": {
        "colab": {
          "base_uri": "https://localhost:8080/",
          "height": 158
        },
        "id": "uqK_XbfKpsJu",
        "outputId": "e1992363-8479-4b90-ffd0-2a36bd8b4cbc"
      },
      "execution_count": 55,
      "outputs": [
        {
          "output_type": "display_data",
          "data": {
            "text/plain": [
              "'before'"
            ],
            "application/vnd.google.colaboratory.intrinsic+json": {
              "type": "string"
            }
          },
          "metadata": {}
        },
        {
          "output_type": "display_data",
          "data": {
            "text/plain": [
              "{'name': 'Hamza',\n",
              " 'father_name': 'Muhammad Aslam',\n",
              " 'id': 51,\n",
              " 'percentage': 94.6}"
            ]
          },
          "metadata": {}
        },
        {
          "output_type": "display_data",
          "data": {
            "text/plain": [
              "('percentage', 94.6)"
            ]
          },
          "metadata": {}
        },
        {
          "output_type": "display_data",
          "data": {
            "text/plain": [
              "'Afer'"
            ],
            "application/vnd.google.colaboratory.intrinsic+json": {
              "type": "string"
            }
          },
          "metadata": {}
        },
        {
          "output_type": "display_data",
          "data": {
            "text/plain": [
              "{'name': 'Hamza', 'father_name': 'Muhammad Aslam', 'id': 51}"
            ]
          },
          "metadata": {}
        }
      ]
    },
    {
      "cell_type": "markdown",
      "source": [
        "# setdefault\n",
        "* return value if exist otherwise add key to dictionary"
      ],
      "metadata": {
        "id": "bbBwvCPtqP6t"
      }
    },
    {
      "cell_type": "code",
      "source": [
        "from typing import Dict\n",
        "data :Dict[str,str] = {\"name\":\"Hamza\",\n",
        "        \"father_name\" : \"Muhammad Aslam\",\n",
        "        \"id\" : 51,\n",
        "        \"percentage\" : 94.6,\n",
        "        }\n",
        "data.setdefault(\"id\")\n",
        "display(data.setdefault(\"age\", \"19\"))\n",
        "\n",
        "display(data)\n"
      ],
      "metadata": {
        "colab": {
          "base_uri": "https://localhost:8080/",
          "height": 122
        },
        "id": "GIjN8PofqVo9",
        "outputId": "614df072-2eaf-40b7-c30b-86ee777635bf"
      },
      "execution_count": 62,
      "outputs": [
        {
          "output_type": "display_data",
          "data": {
            "text/plain": [
              "'19'"
            ],
            "application/vnd.google.colaboratory.intrinsic+json": {
              "type": "string"
            }
          },
          "metadata": {}
        },
        {
          "output_type": "display_data",
          "data": {
            "text/plain": [
              "{'name': 'Hamza',\n",
              " 'father_name': 'Muhammad Aslam',\n",
              " 'id': 51,\n",
              " 'percentage': 94.6,\n",
              " 'age': '19'}"
            ]
          },
          "metadata": {}
        }
      ]
    },
    {
      "cell_type": "markdown",
      "source": [
        "# fromkeys\n",
        "* create a dictionary from any iterable type"
      ],
      "metadata": {
        "id": "YRO2dt7QrpLa"
      }
    },
    {
      "cell_type": "code",
      "source": [
        "from typing import Dict, List\n",
        "keys :List[str] = [\"name\", \"father_name\",\"age\",\"id\"]\n",
        "data :Dict[str,str] = data.fromkeys(keys,\"update soon\")\n",
        "display(data)\n"
      ],
      "metadata": {
        "colab": {
          "base_uri": "https://localhost:8080/",
          "height": 86
        },
        "id": "eqgSdpYir6OS",
        "outputId": "2f3c258b-75d2-4b33-d40e-c9a8caa097eb"
      },
      "execution_count": 64,
      "outputs": [
        {
          "output_type": "display_data",
          "data": {
            "text/plain": [
              "{'name': 'update soon',\n",
              " 'father_name': 'update soon',\n",
              " 'age': 'update soon',\n",
              " 'id': 'update soon'}"
            ]
          },
          "metadata": {}
        }
      ]
    },
    {
      "cell_type": "markdown",
      "source": [
        "# update\n",
        "* extends dictionary from another dictionary"
      ],
      "metadata": {
        "id": "lNn0DWAOtCIw"
      }
    },
    {
      "cell_type": "code",
      "source": [
        "from typing import Dict\n",
        "data :Dict[str,str] = {\"name\":\"Hamza\",\n",
        "                       \"father_name\" : \"Muhammad Aslam\",\n",
        "                       }\n",
        "new_data :Dict[str,str] = {\"id\" : 51,\n",
        "                           \"percentage\" : 94.6,\n",
        "                           }\n",
        "display(\"before\",data)\n",
        "data.update(new_data)\n",
        "\n",
        "\n",
        "display(data)\n",
        "display(\"after\",new_data)\n"
      ],
      "metadata": {
        "colab": {
          "base_uri": "https://localhost:8080/",
          "height": 158
        },
        "id": "y5i0aJb8tH_w",
        "outputId": "467a84e4-3046-46d1-aaba-ebb945a98250"
      },
      "execution_count": 71,
      "outputs": [
        {
          "output_type": "display_data",
          "data": {
            "text/plain": [
              "'before'"
            ],
            "application/vnd.google.colaboratory.intrinsic+json": {
              "type": "string"
            }
          },
          "metadata": {}
        },
        {
          "output_type": "display_data",
          "data": {
            "text/plain": [
              "{'name': 'Hamza', 'father_name': 'Muhammad Aslam'}"
            ]
          },
          "metadata": {}
        },
        {
          "output_type": "display_data",
          "data": {
            "text/plain": [
              "{'name': 'Hamza',\n",
              " 'father_name': 'Muhammad Aslam',\n",
              " 'id': 51,\n",
              " 'percentage': 94.6}"
            ]
          },
          "metadata": {}
        },
        {
          "output_type": "display_data",
          "data": {
            "text/plain": [
              "'after'"
            ],
            "application/vnd.google.colaboratory.intrinsic+json": {
              "type": "string"
            }
          },
          "metadata": {}
        },
        {
          "output_type": "display_data",
          "data": {
            "text/plain": [
              "{'id': 51, 'percentage': 94.6}"
            ]
          },
          "metadata": {}
        }
      ]
    },
    {
      "cell_type": "markdown",
      "source": [
        "# Union Type"
      ],
      "metadata": {
        "id": "76hKfouiuvkc"
      }
    },
    {
      "cell_type": "code",
      "source": [
        "from typing import Dict, Union, List, Tuple\n",
        "\n",
        "key = Union[str,int,float,Tuple, bool]\n",
        "value = [str,int,float,Tuple, bool,set,Dict,List]\n",
        "\n",
        "data :Dict[key,value] = {\"name\":\"Hamza\",\n",
        "                       \"father_name\" : \"Muhammad Aslam\",\n",
        "                       }\n"
      ],
      "metadata": {
        "id": "-7ZjRUyTu07k"
      },
      "execution_count": null,
      "outputs": []
    },
    {
      "cell_type": "markdown",
      "source": [
        "# Run Loop"
      ],
      "metadata": {
        "id": "a5BojHJLuoY1"
      }
    },
    {
      "cell_type": "code",
      "source": [
        "from typing import Dict, Union, List, Tuple\n",
        "\n",
        "key = Union[str,int,float,Tuple, bool]\n",
        "value = Union[str,int,float,Tuple, bool,set,Dict,List]\n",
        "\n",
        "data :Dict[key,value] = {\"name\": 'Hamza',\n",
        "                         'father_name': 'Muhammad Aslam',\n",
        "                         'id': 51,\n",
        "                         'percentage': 94.6\n",
        "                         }\n",
        "\n",
        "for i in data:\n",
        "  print(i)"
      ],
      "metadata": {
        "colab": {
          "base_uri": "https://localhost:8080/"
        },
        "id": "xg_hwnghusdU",
        "outputId": "bd541390-f526-4273-c218-00829f0ee364"
      },
      "execution_count": 77,
      "outputs": [
        {
          "output_type": "stream",
          "name": "stdout",
          "text": [
            "name\n",
            "father_name\n",
            "id\n",
            "percentage\n"
          ]
        }
      ]
    },
    {
      "cell_type": "code",
      "source": [
        "from typing import Dict, Union, List, Tuple\n",
        "\n",
        "key = Union[str,int,float,Tuple, bool]\n",
        "value = Union[str,int,float,Tuple, bool,set,Dict,List]\n",
        "\n",
        "data :Dict[key,value] = {\"name\": 'Hamza',\n",
        "                         'father_name': 'Muhammad Aslam',\n",
        "                         'id': 51,\n",
        "                         'percentage': 94.6\n",
        "                         }\n",
        "\n",
        "for i in data:\n",
        "  print(data[i])"
      ],
      "metadata": {
        "colab": {
          "base_uri": "https://localhost:8080/"
        },
        "id": "zIOJx9Wcwjdh",
        "outputId": "90591ca9-6a6e-4059-87eb-3fd8a19a280d"
      },
      "execution_count": 78,
      "outputs": [
        {
          "output_type": "stream",
          "name": "stdout",
          "text": [
            "Hamza\n",
            "Muhammad Aslam\n",
            "51\n",
            "94.6\n"
          ]
        }
      ]
    },
    {
      "cell_type": "code",
      "source": [
        "from typing import Dict, Union, List, Tuple\n",
        "\n",
        "key = Union[str,int,float,Tuple, bool]\n",
        "value = Union[str,int,float,Tuple, bool,set,Dict,List]\n",
        "\n",
        "data :Dict[key,value] = {\"name\": 'Hamza',\n",
        "                         'father_name': 'Muhammad Aslam',\n",
        "                         'id': 51,\n",
        "                         'percentage': 94.6\n",
        "                         }\n",
        "\n",
        "for i in data.keys():\n",
        "  print(i)"
      ],
      "metadata": {
        "colab": {
          "base_uri": "https://localhost:8080/"
        },
        "id": "41iOTZu6wnVp",
        "outputId": "b1d85b9c-f549-4c5b-d96f-bbf380c00990"
      },
      "execution_count": 79,
      "outputs": [
        {
          "output_type": "stream",
          "name": "stdout",
          "text": [
            "name\n",
            "father_name\n",
            "id\n",
            "percentage\n"
          ]
        }
      ]
    },
    {
      "cell_type": "code",
      "source": [
        "from typing import Dict, Union, List, Tuple\n",
        "\n",
        "key = Union[str,int,float,Tuple, bool]\n",
        "value = Union[str,int,float,Tuple, bool,set,Dict,List]\n",
        "\n",
        "data :Dict[key,value] = {\"name\": 'Hamza',\n",
        "                         'father_name': 'Muhammad Aslam',\n",
        "                         'id': 51,\n",
        "                         'percentage': 94.6\n",
        "                         }\n",
        "\n",
        "for i in data.values():\n",
        "  print(i)"
      ],
      "metadata": {
        "colab": {
          "base_uri": "https://localhost:8080/"
        },
        "id": "02AiaW_ZwuJZ",
        "outputId": "63ddd72c-096d-4a08-995d-339b5d35abdd"
      },
      "execution_count": 80,
      "outputs": [
        {
          "output_type": "stream",
          "name": "stdout",
          "text": [
            "Hamza\n",
            "Muhammad Aslam\n",
            "51\n",
            "94.6\n"
          ]
        }
      ]
    },
    {
      "cell_type": "code",
      "source": [
        "from typing import Dict, Union, List, Tuple\n",
        "\n",
        "key = Union[str,int,float,Tuple, bool]\n",
        "value = Union[str,int,float,Tuple, bool,set,Dict,List]\n",
        "\n",
        "data :Dict[key,value] = {\"name\": 'Hamza',\n",
        "                         'father_name': 'Muhammad Aslam',\n",
        "                         'id': 51,\n",
        "                         'percentage': 94.6\n",
        "                         }\n",
        "\n",
        "for i in data.items():\n",
        "  print(i)"
      ],
      "metadata": {
        "colab": {
          "base_uri": "https://localhost:8080/"
        },
        "id": "ANN7wG1HwzRo",
        "outputId": "3d78b9c7-43b4-4dcf-d2d2-84530a413d30"
      },
      "execution_count": 81,
      "outputs": [
        {
          "output_type": "stream",
          "name": "stdout",
          "text": [
            "('name', 'Hamza')\n",
            "('father_name', 'Muhammad Aslam')\n",
            "('id', 51)\n",
            "('percentage', 94.6)\n"
          ]
        }
      ]
    },
    {
      "cell_type": "markdown",
      "source": [
        "# zip and unzip"
      ],
      "metadata": {
        "id": "iy_dGB_Ow-jh"
      }
    },
    {
      "cell_type": "code",
      "source": [
        "from re import A\n",
        "a = 5\n",
        "b = 9\n",
        "print(a , b)\n",
        "a , b = b , a\n",
        "print(a , b)"
      ],
      "metadata": {
        "colab": {
          "base_uri": "https://localhost:8080/"
        },
        "id": "5eys9Gi-xBpo",
        "outputId": "ef4904be-ab2b-4bba-d8d1-01c170b7f6e3"
      },
      "execution_count": 83,
      "outputs": [
        {
          "output_type": "stream",
          "name": "stdout",
          "text": [
            "5 9\n",
            "9 5\n"
          ]
        }
      ]
    },
    {
      "cell_type": "code",
      "source": [
        "from typing import Dict, Union, List, Tuple\n",
        "\n",
        "key = Union[str,int,float,Tuple, bool]\n",
        "value = Union[str,int,float,Tuple, bool,set,Dict,List]\n",
        "\n",
        "data :Dict[key,value] = {\"name\": 'Hamza',\n",
        "                         'father_name': 'Muhammad Aslam',\n",
        "                         'id': 51,\n",
        "                         'percentage': 94.6\n",
        "                         }\n",
        "\n",
        "for k,v in data.items():\n",
        "  print(f\"{k} : {v}\")"
      ],
      "metadata": {
        "colab": {
          "base_uri": "https://localhost:8080/"
        },
        "id": "UqViVh8_xlYA",
        "outputId": "8e675ecd-7dba-4001-8f4b-abc1b44c982f"
      },
      "execution_count": 84,
      "outputs": [
        {
          "output_type": "stream",
          "name": "stdout",
          "text": [
            "name : Hamza\n",
            "father_name : Muhammad Aslam\n",
            "id : 51\n",
            "percentage : 94.6\n"
          ]
        }
      ]
    }
  ]
}