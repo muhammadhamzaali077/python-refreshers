{
  "nbformat": 4,
  "nbformat_minor": 0,
  "metadata": {
    "colab": {
      "provenance": [],
      "toc_visible": true
    },
    "kernelspec": {
      "name": "python3",
      "display_name": "Python 3"
    },
    "language_info": {
      "name": "python"
    }
  },
  "cells": [
    {
      "cell_type": "markdown",
      "source": [
        "# Functions\n",
        "* block of code run when call\n",
        "* reuseable\n",
        "* stop repeatation\n",
        "## pre-defined function\n",
        "* print()\n",
        "* list()\n",
        "* str()\n",
        "* int()\n",
        "* id()\n",
        "* chr()\n",
        "## User-defined function\n",
        "* defined by a programmer\n",
        "## syntax\n",
        "```\n",
        "def function_name(parameter1: type, parameter2: type)->type: # function definition\n",
        "  logic  # function body\n",
        "function_name(argument1, argument2) # function calling\n",
        "```\n",
        "## Return or Non-return\n",
        "* if you can store the result of function in a variable is called a return function\n",
        "* if you can not store the result of function in a variable is called a non-return function"
      ],
      "metadata": {
        "id": "8ABTHYyafs0S"
      }
    },
    {
      "cell_type": "code",
      "source": [
        "a: int = 5\n",
        "b: int = 10\n",
        "sum: int = a + b\n",
        "print(sum)\n",
        "\n",
        "# more lines of code 100\n",
        "a = 6\n",
        "b = 17\n",
        "sum = a + b\n",
        "print(sum)\n",
        "\n",
        "# more lines of code 100\n",
        "\n",
        "a = 19\n",
        "b = 2319\n",
        "sum = a + b\n",
        "print(sum)"
      ],
      "metadata": {
        "colab": {
          "base_uri": "https://localhost:8080/"
        },
        "id": "xQkp58owiZ_U",
        "outputId": "1187822f-62a1-4963-8dd7-1523a0f1750d"
      },
      "execution_count": 3,
      "outputs": [
        {
          "output_type": "stream",
          "name": "stdout",
          "text": [
            "15\n",
            "23\n",
            "2338\n"
          ]
        }
      ]
    },
    {
      "cell_type": "code",
      "source": [
        "def hello()-> None:\n",
        "  print(\"hello\")\n",
        "hello()"
      ],
      "metadata": {
        "colab": {
          "base_uri": "https://localhost:8080/"
        },
        "id": "CegVpfUEjZiJ",
        "outputId": "266839c2-4b26-483f-aafd-9dbdfc7ed8cd"
      },
      "execution_count": 5,
      "outputs": [
        {
          "output_type": "stream",
          "name": "stdout",
          "text": [
            "hello\n"
          ]
        }
      ]
    },
    {
      "cell_type": "markdown",
      "source": [
        "# positional required parameter function\n",
        "* a function with required length of parameters\n",
        "## non-return function"
      ],
      "metadata": {
        "id": "T2dx44EkpZhv"
      }
    },
    {
      "cell_type": "code",
      "source": [
        "def sum(a:int, b:int)-> None:\n",
        "  print(a + b)\n",
        "sum(6, 7)\n"
      ],
      "metadata": {
        "colab": {
          "base_uri": "https://localhost:8080/"
        },
        "id": "Ii7dmxLqj0Xe",
        "outputId": "2c0b4d09-aa61-4891-9983-ce93ffb611f2"
      },
      "execution_count": 23,
      "outputs": [
        {
          "output_type": "stream",
          "name": "stdout",
          "text": [
            "13\n"
          ]
        }
      ]
    },
    {
      "cell_type": "code",
      "source": [
        "def sum(a:int, b:int)-> None:\n",
        "  print(a + b)\n",
        "result: int = sum(9, 15)\n",
        "print(result)"
      ],
      "metadata": {
        "colab": {
          "base_uri": "https://localhost:8080/"
        },
        "id": "vSO2FLRqkutp",
        "outputId": "20a74dee-f08e-4ada-92dc-0301d3f2bbbb"
      },
      "execution_count": 14,
      "outputs": [
        {
          "output_type": "stream",
          "name": "stdout",
          "text": [
            "24\n",
            "None\n"
          ]
        }
      ]
    },
    {
      "cell_type": "markdown",
      "source": [
        "# return function"
      ],
      "metadata": {
        "id": "sZpdKPV2mB5p"
      }
    },
    {
      "cell_type": "code",
      "source": [
        "def sum(a:int, b:int)-> int:\n",
        "  output: int = a + b\n",
        "  return output\n",
        "result: int = sum(9, 15)\n",
        "print(result)\n",
        "print(result)"
      ],
      "metadata": {
        "colab": {
          "base_uri": "https://localhost:8080/"
        },
        "id": "en68nJp1mFBY",
        "outputId": "8ce85cdb-1fb0-4e20-cb45-de15b5e78a8e"
      },
      "execution_count": 17,
      "outputs": [
        {
          "output_type": "stream",
          "name": "stdout",
          "text": [
            "24\n",
            "24\n",
            "24\n"
          ]
        }
      ]
    },
    {
      "cell_type": "code",
      "source": [
        "def biryani(raita: str, salad: str) -> None:\n",
        "  meat : str = \"chicken\"\n",
        "  rice : int = 1\n",
        "  masale : str = \"xyz\"\n",
        "  print(f\"The biryani is ready! with your {raita} and { salad}\")\n",
        "biryani(\"green raita\" , \"salad with mushroom\")"
      ],
      "metadata": {
        "colab": {
          "base_uri": "https://localhost:8080/"
        },
        "id": "ZQ1M8tFZnpP0",
        "outputId": "2b0f620b-e1a5-4fd4-c4ce-9dd24213164e"
      },
      "execution_count": 19,
      "outputs": [
        {
          "output_type": "stream",
          "name": "stdout",
          "text": [
            "The biryani is ready! with your green raita and salad with mushroom\n"
          ]
        }
      ]
    },
    {
      "cell_type": "markdown",
      "source": [
        "# default function\n",
        "* a function without a parameter or argument"
      ],
      "metadata": {
        "id": "-Ifz76CSnD62"
      }
    },
    {
      "cell_type": "code",
      "source": [
        "def greeting()->None:\n",
        "  print(\"hello how are you?\")\n",
        "greeting()"
      ],
      "metadata": {
        "colab": {
          "base_uri": "https://localhost:8080/"
        },
        "id": "1L09JP4Loyva",
        "outputId": "ae1dbdc4-7179-4f66-a202-99affce9b06e"
      },
      "execution_count": 20,
      "outputs": [
        {
          "output_type": "stream",
          "name": "stdout",
          "text": [
            "hello how are you?\n"
          ]
        }
      ]
    },
    {
      "cell_type": "markdown",
      "source": [
        "# optinal parameter function\n",
        "* a function with optional parameter or argument"
      ],
      "metadata": {
        "id": "zVZ_JYB-pVdH"
      }
    },
    {
      "cell_type": "code",
      "source": [
        "def prod(c: int, d: int = 1)-> None:\n",
        "  print(c * d)\n",
        "prod(5)\n",
        "prod(5, 8)\n",
        "prod(5, 5)\n",
        "prod(5, 3)\n",
        "prod(5, 7)"
      ],
      "metadata": {
        "colab": {
          "base_uri": "https://localhost:8080/"
        },
        "id": "Xd3f9qHrp_uV",
        "outputId": "3d40af23-438c-477f-f3f7-70094e1fbf7a"
      },
      "execution_count": 34,
      "outputs": [
        {
          "output_type": "stream",
          "name": "stdout",
          "text": [
            "5\n",
            "40\n",
            "25\n",
            "15\n",
            "35\n"
          ]
        }
      ]
    },
    {
      "cell_type": "code",
      "source": [
        "def prod(c: int, d: int = 1, e : int = 1)-> None:\n",
        "  print(c * d * e)\n",
        "prod(5)\n",
        "prod(5,2)\n",
        "prod(5,2,6)\n",
        "# prod(5,2,6,8)"
      ],
      "metadata": {
        "colab": {
          "base_uri": "https://localhost:8080/"
        },
        "id": "94NYs3iiwNvz",
        "outputId": "36bee176-e190-4527-c682-5ddda518b7a1"
      },
      "execution_count": 49,
      "outputs": [
        {
          "output_type": "stream",
          "name": "stdout",
          "text": [
            "5\n",
            "10\n",
            "60\n"
          ]
        }
      ]
    },
    {
      "cell_type": "code",
      "source": [
        "print(\"hello\",\"hamza\", end = \" \")\n",
        "print(\"hello\",\"ali\")"
      ],
      "metadata": {
        "colab": {
          "base_uri": "https://localhost:8080/"
        },
        "id": "n5tRR8ZGrVSy",
        "outputId": "770b50b8-9e02-4448-82ee-469b2afe76f2"
      },
      "execution_count": 30,
      "outputs": [
        {
          "output_type": "stream",
          "name": "stdout",
          "text": [
            "hello hamza hello ali\n"
          ]
        }
      ]
    },
    {
      "cell_type": "markdown",
      "source": [
        "# lambda functions / annonymous function\n",
        "* one-line function\n",
        "* use only one time\n",
        "\n",
        "## syntax\n",
        "```\n",
        "lambda parameter1, parameter2 : function body\n",
        "```"
      ],
      "metadata": {
        "id": "-HsWM3UPsTL9"
      }
    },
    {
      "cell_type": "code",
      "source": [
        "product = lambda a, b : a * b\n",
        "product(8,5)"
      ],
      "metadata": {
        "colab": {
          "base_uri": "https://localhost:8080/"
        },
        "id": "atOViW8ysfqu",
        "outputId": "aff32151-802d-4d4f-b006-2ff7dce2ccc4"
      },
      "execution_count": 35,
      "outputs": [
        {
          "output_type": "execute_result",
          "data": {
            "text/plain": [
              "40"
            ]
          },
          "metadata": {},
          "execution_count": 35
        }
      ]
    },
    {
      "cell_type": "code",
      "source": [
        "from typing import List\n",
        "numbers :List[int] = [1,2,3,4,5,6,7,8,9,10]\n",
        "for item in numbers:\n",
        "  print(item**2)"
      ],
      "metadata": {
        "colab": {
          "base_uri": "https://localhost:8080/"
        },
        "id": "DskqXdN-troU",
        "outputId": "b9fd5f06-f7c0-46a9-86ab-7a93eb244b2e"
      },
      "execution_count": 36,
      "outputs": [
        {
          "output_type": "stream",
          "name": "stdout",
          "text": [
            "1\n",
            "4\n",
            "9\n",
            "16\n",
            "25\n",
            "36\n",
            "49\n",
            "64\n",
            "81\n",
            "100\n"
          ]
        }
      ]
    },
    {
      "cell_type": "code",
      "source": [
        "from typing import List\n",
        "numbers :List[int] = [1,2,3,4,5,6,7,8,9,10]\n",
        "def square(item)->None:\n",
        "  print(item**2)\n",
        "result = list(map(square, numbers))\n",
        "print(result)"
      ],
      "metadata": {
        "colab": {
          "base_uri": "https://localhost:8080/"
        },
        "id": "tXPSmURNuIET",
        "outputId": "a52e35c2-1e2b-4f98-c169-ff255140e553"
      },
      "execution_count": 41,
      "outputs": [
        {
          "output_type": "stream",
          "name": "stdout",
          "text": [
            "1\n",
            "4\n",
            "9\n",
            "16\n",
            "25\n",
            "36\n",
            "49\n",
            "64\n",
            "81\n",
            "100\n",
            "[None, None, None, None, None, None, None, None, None, None]\n"
          ]
        }
      ]
    },
    {
      "cell_type": "code",
      "source": [
        "from typing import List\n",
        "numbers :List[int] = [1,2,3,4,5,6,7,8,9,10]\n",
        "result = list(map(lambda item: item**2, numbers))\n",
        "print(result)"
      ],
      "metadata": {
        "colab": {
          "base_uri": "https://localhost:8080/"
        },
        "id": "L3u1nuv3vMfV",
        "outputId": "0b27608e-eed1-45bc-b76d-13e33d415795"
      },
      "execution_count": 43,
      "outputs": [
        {
          "output_type": "stream",
          "name": "stdout",
          "text": [
            "[1, 4, 9, 16, 25, 36, 49, 64, 81, 100]\n"
          ]
        }
      ]
    },
    {
      "cell_type": "code",
      "source": [
        "print(\"hello\", 1, True,[1,2,3],{\"name\": \"hamza\"}, (1,2,3,4,5),\"hello\",18.3)"
      ],
      "metadata": {
        "colab": {
          "base_uri": "https://localhost:8080/"
        },
        "id": "obTAxzOVw1Gq",
        "outputId": "2ffad05e-f3d2-4630-b716-052c1c11af96"
      },
      "execution_count": 50,
      "outputs": [
        {
          "output_type": "stream",
          "name": "stdout",
          "text": [
            "hello 1 True [1, 2, 3] {'name': 'hamza'} (1, 2, 3, 4, 5) hello 18.3\n"
          ]
        }
      ]
    },
    {
      "cell_type": "markdown",
      "source": [
        "# pass multiple arguments\n",
        "* you can pass many argument at the time of calling function"
      ],
      "metadata": {
        "id": "6WE9kpPcxTgZ"
      }
    },
    {
      "cell_type": "code",
      "source": [
        "def data_base(student1,student2,student3,student4):\n",
        "  print(student1,student2,student3,student4)\n",
        "data_base(\"hamza\", \"ali\", \"umar\", \"Humaiyon\",\"abdullah\")"
      ],
      "metadata": {
        "colab": {
          "base_uri": "https://localhost:8080/",
          "height": 176
        },
        "id": "zsJisvXaxlxo",
        "outputId": "8e94b62c-1199-4f0b-b8bb-33bb9eb49d42"
      },
      "execution_count": 53,
      "outputs": [
        {
          "output_type": "error",
          "ename": "TypeError",
          "evalue": "data_base() takes 4 positional arguments but 5 were given",
          "traceback": [
            "\u001b[0;31m---------------------------------------------------------------------------\u001b[0m",
            "\u001b[0;31mTypeError\u001b[0m                                 Traceback (most recent call last)",
            "\u001b[0;32m<ipython-input-53-e3dd1b1de271>\u001b[0m in \u001b[0;36m<cell line: 3>\u001b[0;34m()\u001b[0m\n\u001b[1;32m      1\u001b[0m \u001b[0;32mdef\u001b[0m \u001b[0mdata_base\u001b[0m\u001b[0;34m(\u001b[0m\u001b[0mstudent1\u001b[0m\u001b[0;34m,\u001b[0m\u001b[0mstudent2\u001b[0m\u001b[0;34m,\u001b[0m\u001b[0mstudent3\u001b[0m\u001b[0;34m,\u001b[0m\u001b[0mstudent4\u001b[0m\u001b[0;34m)\u001b[0m\u001b[0;34m:\u001b[0m\u001b[0;34m\u001b[0m\u001b[0;34m\u001b[0m\u001b[0m\n\u001b[1;32m      2\u001b[0m   \u001b[0mprint\u001b[0m\u001b[0;34m(\u001b[0m\u001b[0mstudent1\u001b[0m\u001b[0;34m,\u001b[0m\u001b[0mstudent2\u001b[0m\u001b[0;34m,\u001b[0m\u001b[0mstudent3\u001b[0m\u001b[0;34m,\u001b[0m\u001b[0mstudent4\u001b[0m\u001b[0;34m)\u001b[0m\u001b[0;34m\u001b[0m\u001b[0;34m\u001b[0m\u001b[0m\n\u001b[0;32m----> 3\u001b[0;31m \u001b[0mdata_base\u001b[0m\u001b[0;34m(\u001b[0m\u001b[0;34m\"hamza\"\u001b[0m\u001b[0;34m,\u001b[0m \u001b[0;34m\"ali\"\u001b[0m\u001b[0;34m,\u001b[0m \u001b[0;34m\"umar\"\u001b[0m\u001b[0;34m,\u001b[0m \u001b[0;34m\"Humaiyon\"\u001b[0m\u001b[0;34m,\u001b[0m\u001b[0;34m\"abdullah\"\u001b[0m\u001b[0;34m)\u001b[0m\u001b[0;34m\u001b[0m\u001b[0;34m\u001b[0m\u001b[0m\n\u001b[0m",
            "\u001b[0;31mTypeError\u001b[0m: data_base() takes 4 positional arguments but 5 were given"
          ]
        }
      ]
    },
    {
      "cell_type": "code",
      "source": [
        "def data_base(*students:tuple[str,...])->None:\n",
        "  print(students)\n",
        "data_base(\"hamza\", \"ali\", \"umar\", \"Humaiyon\",\"abdullah\",\"Huzaifa\",\"Ahamd\")\n"
      ],
      "metadata": {
        "colab": {
          "base_uri": "https://localhost:8080/"
        },
        "id": "jRqSLTWXyAn_",
        "outputId": "9a787ee6-c766-4c46-b164-7b90d2d64a76"
      },
      "execution_count": 59,
      "outputs": [
        {
          "output_type": "stream",
          "name": "stdout",
          "text": [
            "('hamza', 'ali', [1, 2, 3])\n"
          ]
        }
      ]
    },
    {
      "cell_type": "code",
      "source": [
        "def data_base(*students)->None:\n",
        "  print(students)\n",
        "data_base(\"hamza\", \"ali\", \"umar\", [1,2,3])"
      ],
      "metadata": {
        "colab": {
          "base_uri": "https://localhost:8080/"
        },
        "id": "0ea5mbCwzP78",
        "outputId": "eee8c2d4-bd2f-4cca-f1c1-fe1cc533b93d"
      },
      "execution_count": 60,
      "outputs": [
        {
          "output_type": "stream",
          "name": "stdout",
          "text": [
            "('hamza', 'ali', 'umar', [1, 2, 3])\n"
          ]
        }
      ]
    },
    {
      "cell_type": "code",
      "source": [
        "def sum(a: int, b: int , *c: tuple[int,...])->None:\n",
        "  sum_c: int = 0\n",
        "  for i in c:\n",
        "    sum_c += i\n",
        "  print(a + b + sum_c)\n",
        "\n",
        "sum(2,3)\n",
        "sum(2,3,4,5,6,7,8,9,10)"
      ],
      "metadata": {
        "colab": {
          "base_uri": "https://localhost:8080/"
        },
        "id": "Di8v8UWXzYgq",
        "outputId": "a6ba94fa-90e4-403a-e058-c7a9dcdacda6"
      },
      "execution_count": 68,
      "outputs": [
        {
          "output_type": "stream",
          "name": "stdout",
          "text": [
            "5\n",
            "54\n"
          ]
        }
      ]
    },
    {
      "cell_type": "markdown",
      "source": [
        "# pass multiple Dictionary as an argument"
      ],
      "metadata": {
        "id": "NWlFSy8Q1GsG"
      }
    },
    {
      "cell_type": "code",
      "source": [
        "from typing import Dict\n",
        "def data_base(**students: Dict[str,str])->None:\n",
        "  print(students)\n",
        "data_base(name = \"hamza\", institute = \"PIAIC\")"
      ],
      "metadata": {
        "colab": {
          "base_uri": "https://localhost:8080/"
        },
        "id": "MHeY1Oaf1QA9",
        "outputId": "1d0a16cd-f7e6-4441-e5b1-6c7123e3b5eb"
      },
      "execution_count": 70,
      "outputs": [
        {
          "output_type": "stream",
          "name": "stdout",
          "text": [
            "{'name': 'hamza', 'institute': 'PIAIC'}\n"
          ]
        }
      ]
    },
    {
      "cell_type": "code",
      "source": [
        "from os import name\n",
        "def result(a: int, b: int , *c: tuple[str,...], **d: Dict[str,str])->None:\n",
        "  print(a,b,c,d)\n",
        "result(2,3)\n",
        "result(2,3, \"hello\",\"hi\",\"bye\")\n",
        "result(2,3, \"hello\",\"hi\",\"bye\", name = \"hamza\", institute = \"PIAIC\")"
      ],
      "metadata": {
        "colab": {
          "base_uri": "https://localhost:8080/"
        },
        "id": "RS2lBcEK2hEy",
        "outputId": "983e31ae-e456-4e89-b97a-3bb0e8f16a8b"
      },
      "execution_count": 73,
      "outputs": [
        {
          "output_type": "stream",
          "name": "stdout",
          "text": [
            "2 3 () {}\n",
            "2 3 ('hello', 'hi', 'bye') {}\n",
            "2 3 ('hello', 'hi', 'bye') {'name': 'hamza', 'institute': 'PIAIC'}\n"
          ]
        }
      ]
    }
  ]
}