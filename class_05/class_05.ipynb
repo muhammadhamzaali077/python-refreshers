{
  "nbformat": 4,
  "nbformat_minor": 0,
  "metadata": {
    "colab": {
      "provenance": [],
      "gpuType": "T4"
    },
    "kernelspec": {
      "name": "python3",
      "display_name": "Python 3"
    },
    "language_info": {
      "name": "python"
    },
    "accelerator": "GPU"
  },
  "cells": [
    {
      "cell_type": "markdown",
      "source": [
        "# Conditions\n",
        "** syntax\n",
        "```\n",
        "if condition :\n",
        "  logics\n",
        "elif condition:\n",
        "  logic\n",
        "else:\n",
        "  logic\n",
        "```"
      ],
      "metadata": {
        "id": "KHGg3qr_bR1H"
      }
    },
    {
      "cell_type": "code",
      "execution_count": 1,
      "metadata": {
        "colab": {
          "base_uri": "https://localhost:8080/"
        },
        "id": "Ahoh_KdMajDa",
        "outputId": "b966d518-5135-47d8-a6df-0fbd6e7a2999"
      },
      "outputs": [
        {
          "output_type": "stream",
          "name": "stdout",
          "text": [
            "You are not eligible for CNIC\n"
          ]
        }
      ],
      "source": [
        "customers_name : str = \"Hamza\"\n",
        "customer_age : int = 19\n",
        "if customer_age == 18:\n",
        "  print(\"You are eligible for CNIC\")\n",
        "else:\n",
        "  print(\"You are not eligible for CNIC\")"
      ]
    },
    {
      "cell_type": "code",
      "source": [
        "customers_name : str = \"Hamza\"\n",
        "customer_age : int = 18\n",
        "if customer_age >= 18:\n",
        "  print(\"You are eligible for CNIC\")\n",
        "else:\n",
        "  print(\"You are not eligible for CNIC\")"
      ],
      "metadata": {
        "colab": {
          "base_uri": "https://localhost:8080/"
        },
        "id": "m205QKHtc1ua",
        "outputId": "8984cb3e-5f54-4d1e-ac6f-00f7b0354c0f"
      },
      "execution_count": 4,
      "outputs": [
        {
          "output_type": "stream",
          "name": "stdout",
          "text": [
            "You are eligible for CNIC\n"
          ]
        }
      ]
    },
    {
      "cell_type": "code",
      "source": [
        "percentage : float = 100\n",
        "if percentage > 100:\n",
        "  print(\"invalid percentage\")\n",
        "elif percentage >= 80:\n",
        "  print(\"Your Grade is A+\")\n",
        "elif percentage >= 70:\n",
        "  print(\"Your Grade is A\")\n",
        "elif percentage >= 60:\n",
        "  print(\"Your Grade is B\")\n",
        "elif percentage >= 50:\n",
        "  print(\"Your Grade is C\")\n",
        "elif percentage >= 40:\n",
        "  print(\"Your Grade is D\")\n",
        "else:\n",
        "  print(\"Your Grade is F\")"
      ],
      "metadata": {
        "colab": {
          "base_uri": "https://localhost:8080/"
        },
        "id": "JdvNZl__dZ7O",
        "outputId": "46287eb4-fb28-458a-df28-4481cdc2deb7"
      },
      "execution_count": 14,
      "outputs": [
        {
          "output_type": "stream",
          "name": "stdout",
          "text": [
            "Your Grade is A+\n"
          ]
        }
      ]
    },
    {
      "cell_type": "code",
      "source": [
        "from typing import List\n",
        "banned_users : List[str] = [\"ali\", \"usama\"]\n",
        "user : str = \"USAMA\"\n",
        "checking : bool = user.lower() in banned_users\n",
        "if checking:\n",
        "  print(\"you are banned\")\n",
        "else:\n",
        "  print(\"you are not banned, you can go\")\n",
        "# print(checking)"
      ],
      "metadata": {
        "colab": {
          "base_uri": "https://localhost:8080/"
        },
        "id": "s721aEVZf3Ld",
        "outputId": "e7a5cf96-b10f-4b54-c1f0-3ae720480138"
      },
      "execution_count": 21,
      "outputs": [
        {
          "output_type": "stream",
          "name": "stdout",
          "text": [
            "you are banned\n"
          ]
        }
      ]
    },
    {
      "cell_type": "markdown",
      "source": [
        "# Favourite Fruit"
      ],
      "metadata": {
        "id": "dpnXaCgqilM3"
      }
    },
    {
      "cell_type": "code",
      "source": [
        "favourite_fruits :List[str] = [\"Mango\",\"Apple\"]\n",
        "if \"banana\" in favourite_fruits:\n",
        "  print(\"it's your favourite fruit banana\")\n",
        "elif \"Mango\" in favourite_fruits:\n",
        "  print(\"it's your favourite fruit mango\")\n",
        "elif \"Apple\" in favourite_fruits:\n",
        "  print(\"it's your favourite fruit apple\")\n",
        "else:\n",
        "  print(\"it's not your favourite fruit\")\n",
        "\n"
      ],
      "metadata": {
        "colab": {
          "base_uri": "https://localhost:8080/"
        },
        "id": "Zvk46wrSioif",
        "outputId": "4daf2d7f-adb6-47bc-b6a9-5ad99382a7c3"
      },
      "execution_count": 23,
      "outputs": [
        {
          "output_type": "stream",
          "name": "stdout",
          "text": [
            "it's your favourite fruit mango\n"
          ]
        }
      ]
    },
    {
      "cell_type": "code",
      "source": [
        "favourite_fruits :List[str] = [\"mango\",\"apple\"]\n",
        "all_fruits : List[str] = [\"banana\",\"pineapple\", \"kiwi\",\"mango\",\"grapes\",\"apple\"]\n",
        "for fruit in all_fruits:\n",
        "  if fruit in favourite_fruits:\n",
        "    print(f\"{fruit} is your favourite fruit\")\n",
        "  else:\n",
        "    print(f\"{fruit} is not your favourite fruit\")\n",
        "\n"
      ],
      "metadata": {
        "colab": {
          "base_uri": "https://localhost:8080/"
        },
        "id": "nTmFagDxj7TE",
        "outputId": "246042e7-f6fe-4f84-caac-79898627b4b6"
      },
      "execution_count": 24,
      "outputs": [
        {
          "output_type": "stream",
          "name": "stdout",
          "text": [
            "banana is not your favourite fruit\n",
            "pineapple is not your favourite fruit\n",
            "kiwi is not your favourite fruit\n",
            "mango is your favourite fruit\n",
            "grapes is not your favourite fruit\n",
            "apple is your favourite fruit\n"
          ]
        }
      ]
    },
    {
      "cell_type": "code",
      "source": [
        "cars_brand : List[str] = [\"audi\", \"bmw\", \"subaru\", \"toyota\"]\n",
        "if \"lamborghini\" not in cars_brand:\n",
        "  print(\"it's not in the list\")\n",
        "else:\n",
        "  print(\"it's in the list\")"
      ],
      "metadata": {
        "colab": {
          "base_uri": "https://localhost:8080/"
        },
        "id": "3k0jMHH5mDmC",
        "outputId": "94cba819-59fa-4b89-aa8c-9025113c3667"
      },
      "execution_count": 25,
      "outputs": [
        {
          "output_type": "stream",
          "name": "stdout",
          "text": [
            "it's not in the list\n"
          ]
        }
      ]
    },
    {
      "cell_type": "code",
      "source": [
        "scores : int = 105\n",
        "if scores > 100:\n",
        "  print(\"invalid score\")\n",
        "elif scores >= 95 and scores <= 100:\n",
        "  print(\"1st position in the Game\")\n",
        "elif scores >= 85 and scores < 95:\n",
        "  print(\"2nd position in the game\")\n",
        "else:\n",
        "  print(\"Better luck for next time\")"
      ],
      "metadata": {
        "colab": {
          "base_uri": "https://localhost:8080/"
        },
        "id": "jqBhPTMVmnpo",
        "outputId": "307da6e5-5b47-4fab-f87a-9f0f4407ea35"
      },
      "execution_count": 28,
      "outputs": [
        {
          "output_type": "stream",
          "name": "stdout",
          "text": [
            "invalid score\n"
          ]
        }
      ]
    },
    {
      "cell_type": "code",
      "source": [
        "user_1 : List[str] = [\"hamza\",19,\"male\",2004, 35]\n",
        "name = user_1[0]\n",
        "age = user_1[1]\n",
        "gender = user_1[2]\n",
        "date_of_birth = user_1[3]\n",
        "roll_number = user_1[4]\n",
        "\n"
      ],
      "metadata": {
        "id": "5IcBMqQfoXsP"
      },
      "execution_count": 29,
      "outputs": []
    },
    {
      "cell_type": "markdown",
      "source": [
        "# Dictionary\n",
        "* syntax\n",
        "```\n",
        "varible : Dict[key_type, value_type] = {\"key\":\"value\", \"key_1\":\"value_1\"}\n",
        "```"
      ],
      "metadata": {
        "id": "GZGI2mDVpc-G"
      }
    },
    {
      "cell_type": "code",
      "source": [
        "from typing import Dict\n",
        "user_data : Dict[str,str] = {\"name\": \"hamza\",\n",
        "                             \"age\":\"19\",\n",
        "                             \"gender\":\"male\"}\n",
        "print(user_data[\"name\"])\n",
        "print(user_data[\"age\"])\n",
        "print(user_data[\"gender\"])\n",
        "print(user_data)"
      ],
      "metadata": {
        "colab": {
          "base_uri": "https://localhost:8080/"
        },
        "id": "L_RxsJJaqHra",
        "outputId": "b50ea37b-34d3-45d7-c9df-899267c17cb9"
      },
      "execution_count": 31,
      "outputs": [
        {
          "output_type": "stream",
          "name": "stdout",
          "text": [
            "hamza\n",
            "19\n",
            "male\n",
            "{'name': 'hamza', 'age': '19', 'gender': 'male'}\n"
          ]
        }
      ]
    }
  ]
}