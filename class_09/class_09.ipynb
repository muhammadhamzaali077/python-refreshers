{
  "nbformat": 4,
  "nbformat_minor": 0,
  "metadata": {
    "colab": {
      "provenance": []
    },
    "kernelspec": {
      "name": "python3",
      "display_name": "Python 3"
    },
    "language_info": {
      "name": "python"
    }
  },
  "cells": [
    {
      "cell_type": "code",
      "execution_count": null,
      "metadata": {
        "colab": {
          "base_uri": "https://localhost:8080/"
        },
        "id": "7gGowtWXoEoh",
        "outputId": "871ea8bb-204b-4202-8a3a-4d1d41c1534f"
      },
      "outputs": [
        {
          "output_type": "stream",
          "name": "stdout",
          "text": [
            "Hello Hamza\n"
          ]
        }
      ],
      "source": [
        "def greeting(name:str)->None:\n",
        "  print(f\"Hello {name}\")\n",
        "greeting(\"Hamza\")"
      ]
    },
    {
      "cell_type": "code",
      "source": [
        "for n in range(1, 10+1, 2 ):\n",
        "  print(n)"
      ],
      "metadata": {
        "colab": {
          "base_uri": "https://localhost:8080/"
        },
        "id": "Gr5xu5z3rpUJ",
        "outputId": "98e7e683-7fff-405f-f2b4-5d0a3ec28e38"
      },
      "execution_count": null,
      "outputs": [
        {
          "output_type": "stream",
          "name": "stdout",
          "text": [
            "1\n",
            "3\n",
            "5\n",
            "7\n",
            "9\n"
          ]
        }
      ]
    },
    {
      "cell_type": "markdown",
      "source": [
        "# recursive function\n",
        "1 x 2 = 2\n",
        "\n",
        "2 x 3 = 6\n",
        "\n",
        "2 x 3 x 4 = 24\n",
        "\n",
        "2 x 3 x 4 x 5 = 120"
      ],
      "metadata": {
        "id": "9BGE7NmDwIpJ"
      }
    },
    {
      "cell_type": "code",
      "source": [
        "def fact(n):\n",
        "  if n == 0 or  n == 1:  # Base case: factorial of 0 is 1\n",
        "    return 1\n",
        "  else:\n",
        "    result = n * fact(n - 1)  # Recursive step\n",
        "    return result  # Return the calculated result\n",
        "\n",
        "print(fact(5)) # Call the function and print the result\n",
        "# 1 x 2 x 3 x 4 x 5 = 120"
      ],
      "metadata": {
        "colab": {
          "base_uri": "https://localhost:8080/"
        },
        "id": "Pz8-bqwPseJP",
        "outputId": "806802cf-2f6e-4617-f3a0-1582e8fb2a01"
      },
      "execution_count": null,
      "outputs": [
        {
          "output_type": "stream",
          "name": "stdout",
          "text": [
            "120\n"
          ]
        }
      ]
    },
    {
      "cell_type": "code",
      "source": [
        "# prompt: write factorial of  5 with for loop do not create  function\n",
        "\n",
        "factorial = 1\n",
        "for i in range(1, 6):\n",
        "  factorial *= i\n",
        "# i= 1= 1 x 1 X 2 X 3 x 4 x 5 = 120\n",
        "\n",
        "print(factorial)"
      ],
      "metadata": {
        "colab": {
          "base_uri": "https://localhost:8080/"
        },
        "id": "ZRg3s-cSyi_k",
        "outputId": "115acf0e-41d2-4c63-9df9-046045bdf025"
      },
      "execution_count": null,
      "outputs": [
        {
          "output_type": "stream",
          "name": "stdout",
          "text": [
            "120\n"
          ]
        }
      ]
    },
    {
      "cell_type": "code",
      "source": [
        "condi = False\n",
        "if condi:\n",
        "  print(\"hello\")\n",
        "else:\n",
        "  print(\"by\")"
      ],
      "metadata": {
        "colab": {
          "base_uri": "https://localhost:8080/"
        },
        "id": "Zkbrpb6q0NtW",
        "outputId": "707f3e56-9d90-4ddd-914f-b365f1382b6f"
      },
      "execution_count": null,
      "outputs": [
        {
          "output_type": "stream",
          "name": "stdout",
          "text": [
            "by\n"
          ]
        }
      ]
    }
  ]
}