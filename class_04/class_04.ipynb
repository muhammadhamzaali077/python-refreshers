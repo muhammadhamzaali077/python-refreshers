{
 "cells": [
  {
   "cell_type": "markdown",
   "metadata": {},
   "source": [
    "# Loop\n",
    "* syntax\n",
    "```\n",
    "for local_variable in iteratable_type:\n",
    "    any logice\n",
    "```"
   ]
  },
  {
   "cell_type": "code",
   "execution_count": null,
   "metadata": {},
   "outputs": [],
   "source": [
    "name1: str = \"hamza\"\n",
    "name2: str = \"Yousuf\"\n",
    "name3:str = \"Abdullah\"\n",
    "print(f\"Hello {name1}\")\n",
    "print(f\"Hello {name2}\")\n",
    "print(f\"Hello {name3}\")"
   ]
  },
  {
   "cell_type": "code",
   "execution_count": null,
   "metadata": {},
   "outputs": [],
   "source": [
    "from typing import List\n",
    "names: List[str] = [\"Yousuf\", \"Hamza\", \"Abdullah\", \"Umar\", \"Haseeb\"]\n",
    "print(f\"Hello {names[0]}\")\n",
    "print(f\"Hello {names[1]}\")\n",
    "print(f\"Hello {names[2]}\")\n",
    "print(f\"Hello {names[3]}\")\n",
    "# print(f\"Hello {names[4]}\")"
   ]
  },
  {
   "cell_type": "code",
   "execution_count": null,
   "metadata": {},
   "outputs": [],
   "source": [
    "from typing import List\n",
    "names: List[str] = [\"Yousuf\", \"Hamza\", \"Abdullah\", \"Umar\", \"Haseeb\"]\n",
    "for name in names:\n",
    "    print(f\"Hello {name}\")"
   ]
  },
  {
   "cell_type": "code",
   "execution_count": null,
   "metadata": {},
   "outputs": [],
   "source": [
    "from typing import List\n",
    "names: List[str] = [\"Yousuf\", \"Hamza\", \"Abdullah\", \"Umar\", \"Haseeb\"]\n",
    "print(names)\n",
    "names[3] = \"Ali\"\n",
    "print(names)"
   ]
  },
  {
   "cell_type": "code",
   "execution_count": null,
   "metadata": {},
   "outputs": [],
   "source": [
    "from typing import List\n",
    "names: List[str] = [\"Yousuf\", \"Hamza\", \"Abdullah\", \"Umar\", \"Haseeb\"]\n",
    "for name in names:\n",
    "    print(f\"Hello {names[0]}\")\n",
    "    print(f\"Hello {names[1]}\")\n",
    "    print(f\"Hello {names[2]}\")"
   ]
  },
  {
   "cell_type": "code",
   "execution_count": null,
   "metadata": {},
   "outputs": [],
   "source": [
    "from typing import List\n",
    "names: List[str] = [\"Yousuf\", \"Hamza\", \"Abdullah\", \"Umar\", \"Haseeb\"]\n",
    "\n",
    "print(f\"Hello {names[0]}\")\n",
    "print(f\"Hello {names[1]}\")\n",
    "print(f\"Hello {names[2]}\")"
   ]
  },
  {
   "cell_type": "code",
   "execution_count": null,
   "metadata": {},
   "outputs": [],
   "source": [
    "name :str = \"Hamza\"\n",
    "for charac in name:\n",
    "    print(charac)"
   ]
  },
  {
   "cell_type": "code",
   "execution_count": null,
   "metadata": {},
   "outputs": [],
   "source": [
    "from typing import List\n",
    "names: List[str] = [\"Yousuf\", \"Hamza\", \"Abdullah\", \"Umar\", \"Haseeb\"]\n",
    "\n",
    "for name in names:\n",
    "    print(f\"Hello {name[0:3]}\")"
   ]
  },
  {
   "cell_type": "code",
   "execution_count": null,
   "metadata": {},
   "outputs": [],
   "source": [
    "from typing import List\n",
    "names: List[str] = [\"Yousuf\", \"Hamza\", \"Abdullah\", \"Umar\", \"Haseeb\"]\n",
    "\n",
    "for name in names[0:3]:\n",
    "    print(f\"Hello {name}\")"
   ]
  },
  {
   "cell_type": "markdown",
   "metadata": {},
   "source": [
    "# Slicing\n",
    "* start\n",
    "* end (it will always subtract 1 from end)\n",
    "* steps\n",
    "* execute left to right\n",
    "```\n",
    "iteratable_type_variable[start:end:steps]\n",
    "```"
   ]
  },
  {
   "cell_type": "code",
   "execution_count": null,
   "metadata": {},
   "outputs": [],
   "source": [
    "from typing import List\n",
    "names: List[str] = [\"Yousuf\", \"Hamza\", \"Abdullah\", \"Umar\", \"Haseeb\"]\n",
    "print(names[0:2:0])\n"
   ]
  },
  {
   "cell_type": "code",
   "execution_count": null,
   "metadata": {},
   "outputs": [],
   "source": [
    "from typing import List\n",
    "names: List[str] = [\"Yousuf\", \"Hamza\", \"Abdullah\", \"Umar\", \"Haseeb\"]\n",
    "print(names[0:3])\n"
   ]
  },
  {
   "cell_type": "code",
   "execution_count": null,
   "metadata": {},
   "outputs": [],
   "source": [
    "from typing import List\n",
    "names: List[str] = [\"Yousuf\", \"Hamza\", \"Abdullah\", \"Umar\", \"Haseeb\"]\n",
    "print(names[0:5:1])\n"
   ]
  },
  {
   "cell_type": "code",
   "execution_count": null,
   "metadata": {},
   "outputs": [],
   "source": [
    "from typing import List\n",
    "names: List[str] = [\"Yousuf\", \"Hamza\", \"Abdullah\", \"Umar\", \"Haseeb\"]\n",
    "print(names[0:5:2])"
   ]
  },
  {
   "cell_type": "code",
   "execution_count": null,
   "metadata": {},
   "outputs": [],
   "source": [
    "from typing import List\n",
    "names: List[str] = [\"Yousuf\", \"Hamza\", \"Abdullah\", \"Umar\", \"Haseeb\"]\n",
    "print(names[0:5:3])"
   ]
  },
  {
   "cell_type": "markdown",
   "metadata": {},
   "source": [
    "# Tuple\n",
    "* Iteratable type\n",
    "* non changable item"
   ]
  },
  {
   "cell_type": "code",
   "execution_count": null,
   "metadata": {},
   "outputs": [],
   "source": [
    "from typing import Tuple\n",
    "dimensions:Tuple[int,int] = (200,50)\n",
    "print(dimensions[0])\n",
    "print(dimensions[1])"
   ]
  },
  {
   "cell_type": "code",
   "execution_count": null,
   "metadata": {},
   "outputs": [],
   "source": [
    "from typing import Tuple\n",
    "dimensions:Tuple[int,int] = (200,50)\n",
    "dimensions[1] = 100\n",
    "print(dimensions)"
   ]
  },
  {
   "cell_type": "code",
   "execution_count": null,
   "metadata": {},
   "outputs": [],
   "source": [
    "from typing import Tuple\n",
    "dimensions:Tuple[int,int] = (200,50)\n",
    "for dimension in dimensions:\n",
    "    print(dimension)"
   ]
  },
  {
   "cell_type": "markdown",
   "metadata": {},
   "source": [
    "# Range\n",
    "* start\n",
    "* end (it will always subtract 1 from end)\n",
    "* steps"
   ]
  },
  {
   "cell_type": "code",
   "execution_count": null,
   "metadata": {},
   "outputs": [],
   "source": [
    "numbers_list:List[int] = [1,2,3,4,5,6,7,8,9,10]"
   ]
  },
  {
   "cell_type": "code",
   "execution_count": null,
   "metadata": {},
   "outputs": [],
   "source": [
    "numbers_list:List[int] = list(range(1,101))\n",
    "# print(numbers_list)\n",
    "for i in numbers_list:\n",
    "    print(i)"
   ]
  },
  {
   "cell_type": "code",
   "execution_count": null,
   "metadata": {},
   "outputs": [],
   "source": [
    "for i in range(1,11):\n",
    "    print(i)"
   ]
  },
  {
   "cell_type": "code",
   "execution_count": null,
   "metadata": {},
   "outputs": [],
   "source": [
    "even_numbers:List[int] = list(range(2,101,2))\n",
    "print(even_numbers)"
   ]
  },
  {
   "cell_type": "code",
   "execution_count": null,
   "metadata": {},
   "outputs": [],
   "source": [
    "odd_numbers:List[int] = list(range(1,101,2))\n",
    "print(odd_numbers)"
   ]
  },
  {
   "cell_type": "code",
   "execution_count": null,
   "metadata": {},
   "outputs": [],
   "source": [
    "numbers:List[int] = list(range(1,11))\n",
    "for i in numbers:\n",
    "    print(f\"5 x {i} = {i*5}\")"
   ]
  },
  {
   "cell_type": "code",
   "execution_count": null,
   "metadata": {},
   "outputs": [],
   "source": [
    "for i in range(1,11):\n",
    "    print(f\"5 x {i} = {i*5}\")"
   ]
  },
  {
   "cell_type": "code",
   "execution_count": null,
   "metadata": {},
   "outputs": [],
   "source": []
  },
  {
   "cell_type": "code",
   "execution_count": null,
   "metadata": {},
   "outputs": [],
   "source": [
    "from typing import List\n",
    "names: List[str] = [\"Yousuf\", \"Hamza\", \"Abdullah\", \"Umar\", \"Haseeb\"]\n",
    "new_names:List[str] = names\n",
    "print(names)\n",
    "print(new_names)\n",
    "new_names[2] = \"Ahmad\"\n",
    "print(names)\n",
    "print(new_names)"
   ]
  },
  {
   "cell_type": "code",
   "execution_count": null,
   "metadata": {},
   "outputs": [],
   "source": [
    "from typing import List\n",
    "names: List[str] = [\"Yousuf\", \"Hamza\", \"Abdullah\", \"Umar\", \"Haseeb\"]\n",
    "new_names:List[str] = names.copy()\n",
    "print(names)\n",
    "print(new_names)\n",
    "new_names[2] = \"Ahmad\"\n",
    "print(names)\n",
    "print(new_names)"
   ]
  },
  {
   "cell_type": "code",
   "execution_count": null,
   "metadata": {},
   "outputs": [],
   "source": [
    "from typing import List\n",
    "names: List[str] = [\"Yousuf\", \"Hamza\", \"Abdullah\", \"Umar\", \"Haseeb\"]\n",
    "new_names:List[str] = names[:]\n",
    "print(names)\n",
    "print(new_names)\n",
    "new_names[2] = \"Ahmad\"\n",
    "print(names)\n",
    "print(new_names)"
   ]
  },
  {
   "cell_type": "code",
   "execution_count": null,
   "metadata": {},
   "outputs": [],
   "source": [
    "magicians:list[str] = ['alice', 'david', 'carolina']\n",
    "for magician in magicians:\n",
    "    print(f\"{magician.title()}, that was a great trick!\")"
   ]
  },
  {
   "cell_type": "code",
   "execution_count": null,
   "metadata": {},
   "outputs": [],
   "source": [
    "players:list[str] = ['charles', 'martina', 'michael', 'florence', 'eli']\n",
    "print(players[:4])"
   ]
  },
  {
   "cell_type": "code",
   "execution_count": null,
   "metadata": {},
   "outputs": [],
   "source": [
    "players:list[str] = ['charles', 'martina', 'michael', 'florence', 'eli']\n",
    "print(players[2:])"
   ]
  },
  {
   "cell_type": "code",
   "execution_count": null,
   "metadata": {},
   "outputs": [],
   "source": [
    "players:list[str] = ['charles', 'martina', 'michael', 'florence', 'eli']\n",
    "print(players[:])"
   ]
  },
  {
   "cell_type": "code",
   "execution_count": null,
   "metadata": {},
   "outputs": [],
   "source": [
    "players:list[str] = ['charles', 'martina', 'michael', 'florence', 'eli']\n",
    "print(players[-1:0:-1])"
   ]
  },
  {
   "cell_type": "code",
   "execution_count": null,
   "metadata": {},
   "outputs": [],
   "source": [
    "players:list[str] = ['charles', 'martina', 'michael', 'florence', 'eli']\n",
    "[f\"{player.title()}, that was a great trick!\" for player in players]"
   ]
  },
  {
   "cell_type": "markdown",
   "metadata": {},
   "source": [
    "# Errors"
   ]
  },
  {
   "cell_type": "code",
   "execution_count": null,
   "metadata": {},
   "outputs": [],
   "source": [
    "message:str = \"Hello Python world!\"\n",
    "    print(message)"
   ]
  },
  {
   "cell_type": "code",
   "execution_count": null,
   "metadata": {},
   "outputs": [],
   "source": [
    "magicians:list[str] = ['alice', 'david', 'carolina']\n",
    "for magician in magicians:\n",
    "print(f\"{magician.title()}, that was a great trick!\")"
   ]
  },
  {
   "cell_type": "code",
   "execution_count": null,
   "metadata": {},
   "outputs": [],
   "source": [
    "magicians:list[str] = ['alice', 'david', 'carolina']\n",
    "for magician in magicians\n",
    "    print(f\"{magician.title()}, that was a great trick!\")"
   ]
  },
  {
   "cell_type": "code",
   "execution_count": null,
   "metadata": {},
   "outputs": [],
   "source": [
    "for i in range(1,11):\n",
    "    print(i**2)"
   ]
  },
  {
   "cell_type": "code",
   "execution_count": null,
   "metadata": {},
   "outputs": [],
   "source": [
    "squares:List[int] = []\n",
    "for i in range(1,11):\n",
    "    square:int = i**2\n",
    "    squares.append(square)\n",
    "\n",
    "print(squares)"
   ]
  },
  {
   "cell_type": "markdown",
   "metadata": {},
   "source": [
    "# Comprehensive Loop / List Comprehensive\n",
    "* one line loop\n",
    "```\n",
    "[logic for local_variable in iteratable_type]\n",
    "```"
   ]
  },
  {
   "cell_type": "code",
   "execution_count": null,
   "metadata": {},
   "outputs": [],
   "source": [
    "for i in range(1,11):\n",
    "    print(i**2)"
   ]
  },
  {
   "cell_type": "code",
   "execution_count": null,
   "metadata": {},
   "outputs": [],
   "source": [
    "print([i**2 for i in range(1,11)])"
   ]
  },
  {
   "cell_type": "code",
   "execution_count": 79,
   "metadata": {},
   "outputs": [
    {
     "ename": "TypeError",
     "evalue": "'int' object is not iterable",
     "output_type": "error",
     "traceback": [
      "\u001b[1;31m---------------------------------------------------------------------------\u001b[0m",
      "\u001b[1;31mTypeError\u001b[0m                                 Traceback (most recent call last)",
      "Cell \u001b[1;32mIn[79], line 2\u001b[0m\n\u001b[0;32m      1\u001b[0m number:\u001b[38;5;28mint\u001b[39m \u001b[38;5;241m=\u001b[39m \u001b[38;5;241m564\u001b[39m\n\u001b[1;32m----> 2\u001b[0m \u001b[38;5;28;01mfor\u001b[39;00m i \u001b[38;5;129;01min\u001b[39;00m number:\n\u001b[0;32m      3\u001b[0m     \u001b[38;5;28mprint\u001b[39m(i)\n",
      "\u001b[1;31mTypeError\u001b[0m: 'int' object is not iterable"
     ]
    }
   ],
   "source": [
    "number:int = 564\n",
    "for i in number:\n",
    "    print(i)"
   ]
  },
  {
   "cell_type": "code",
   "execution_count": 80,
   "metadata": {},
   "outputs": [
    {
     "name": "stdout",
     "output_type": "stream",
     "text": [
      "5\n",
      "6\n",
      "4\n"
     ]
    }
   ],
   "source": [
    "number:str = \"564\"\n",
    "for i in number:\n",
    "    print(i)"
   ]
  }
 ],
 "metadata": {
  "kernelspec": {
   "display_name": "Python 3",
   "language": "python",
   "name": "python3"
  },
  "language_info": {
   "codemirror_mode": {
    "name": "ipython",
    "version": 3
   },
   "file_extension": ".py",
   "mimetype": "text/x-python",
   "name": "python",
   "nbconvert_exporter": "python",
   "pygments_lexer": "ipython3",
   "version": "3.12.5"
  }
 },
 "nbformat": 4,
 "nbformat_minor": 2
}
