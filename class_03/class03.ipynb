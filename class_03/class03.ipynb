{
 "cells": [
  {
   "cell_type": "code",
   "execution_count": null,
   "metadata": {},
   "outputs": [],
   "source": [
    "print(\"hello WOrld\")\n",
    "print(\"hello WOrld\")\n",
    "print(\"hello WOrld\")\n",
    "print(\"hello WOrld\")  # 3 hours"
   ]
  },
  {
   "cell_type": "code",
   "execution_count": null,
   "metadata": {},
   "outputs": [],
   "source": [
    "print(\"hello WOrld\")\n",
    "print(\"hello WOrld\")\n",
    "print(\"hello WOrld\")\n",
    "print(\"hello WOrld\")\n",
    "print(\"hello WOrld\")\n",
    "print(\"hello WOrld\")\n",
    "print(\"hello WOrld\")\n",
    "print(\"hello WOrld\")\n",
    "print(\"hello WOrld\")\n",
    "print(\"hello WOrld\")\n",
    "print(\"hello WOrld\")"
   ]
  },
  {
   "cell_type": "markdown",
   "metadata": {},
   "source": [
    "# Operators\n",
    "* Arthematic Operators\n",
    "    * Addition ( + )\n",
    "    * Subtraction ( - )\n",
    "    * Multiplication ( * )\n",
    "    * / (Division)\n",
    "    * % (modulus)\n",
    "    * // (Floor Division)\n",
    "* Assignment Operators\n",
    "    * =\n",
    "    * +=\n",
    "    * -=\n",
    "    * *=\n",
    "    * /=\n",
    "    * //=\n",
    "    * %=\n",
    "* comparision Operator\n",
    "* Logical Operator\n",
    "* Membership Operators"
   ]
  },
  {
   "cell_type": "code",
   "execution_count": null,
   "metadata": {},
   "outputs": [],
   "source": [
    "integer : int = 123\n",
    "float_type :float = 1.2\n",
    "boolean :bool = True  # False \n",
    "lsit :list[str] = [\"hamza\"]"
   ]
  },
  {
   "cell_type": "code",
   "execution_count": null,
   "metadata": {},
   "outputs": [],
   "source": [
    "# Addition\n",
    "print(5 + 5)\n",
    "number_1 : int = 10\n",
    "number_2 :float = 5.6\n",
    "number_3 :int = 45\n",
    "print(number_1 + number_2)\n"
   ]
  },
  {
   "cell_type": "code",
   "execution_count": null,
   "metadata": {},
   "outputs": [],
   "source": [
    "# Subtraction\n",
    "number_1 : int = 10\n",
    "number_3 :int = 45\n",
    "print(number_3 - number_1)"
   ]
  },
  {
   "cell_type": "code",
   "execution_count": null,
   "metadata": {},
   "outputs": [],
   "source": [
    "# Multiplication\n",
    "number_1 : int = 10\n",
    "number_3 :int = 4\n",
    "print(number_1 * number_3)"
   ]
  },
  {
   "cell_type": "code",
   "execution_count": null,
   "metadata": {},
   "outputs": [],
   "source": [
    "# Division \n",
    "number_1 : int = 10\n",
    "number_3 :int = 4\n",
    "print(number_1 / number_3)"
   ]
  },
  {
   "cell_type": "code",
   "execution_count": null,
   "metadata": {},
   "outputs": [],
   "source": [
    "# Modulus\n",
    "number_1 : int = 5\n",
    "number_2 :int = 2\n",
    "print(number_1 % number_2)"
   ]
  },
  {
   "cell_type": "code",
   "execution_count": null,
   "metadata": {},
   "outputs": [],
   "source": [
    "# Floor Division\n",
    "number_1 : int = 5\n",
    "number_2 :int = 3\n",
    "print(number_1 / number_2)\n",
    "print(number_1 // number_2)"
   ]
  },
  {
   "cell_type": "markdown",
   "metadata": {},
   "source": [
    "# Assignment Operators"
   ]
  },
  {
   "cell_type": "code",
   "execution_count": null,
   "metadata": {},
   "outputs": [],
   "source": [
    "name : str = \"Hamza\"\n",
    "print(name)"
   ]
  },
  {
   "cell_type": "code",
   "execution_count": null,
   "metadata": {},
   "outputs": [],
   "source": [
    "#  += \n",
    "num_1: int = 5\n",
    "# num_1 = num_1 + 5\n",
    "# print(num_1)\n",
    "\n",
    "num_1 += 5\n",
    "print(num_1)"
   ]
  },
  {
   "cell_type": "code",
   "execution_count": null,
   "metadata": {},
   "outputs": [],
   "source": [
    "# -=\n",
    "a : int = 4\n",
    "# a = a - 2\n",
    "# print(a)\n",
    "\n",
    "a -= 2\n",
    "print(a)"
   ]
  },
  {
   "cell_type": "code",
   "execution_count": null,
   "metadata": {},
   "outputs": [],
   "source": [
    "# *=\n",
    "a : int = 2\n",
    "# a = a * 4\n",
    "# print(a)\n",
    "\n",
    "a *= 4\n",
    "print(a)"
   ]
  },
  {
   "cell_type": "code",
   "execution_count": null,
   "metadata": {},
   "outputs": [],
   "source": [
    "# /=\n",
    "a : int = 4\n",
    "a /= 2\n",
    "print(a)"
   ]
  },
  {
   "cell_type": "code",
   "execution_count": null,
   "metadata": {},
   "outputs": [],
   "source": [
    "# %=\n",
    "a : int = 7\n",
    "# a = a % 3\n",
    "# print(a)\n",
    "\n",
    "a %= 3\n",
    "print(a)"
   ]
  },
  {
   "cell_type": "code",
   "execution_count": null,
   "metadata": {},
   "outputs": [],
   "source": [
    "# //=\n",
    "a : int = 9\n",
    "# a /= 5\n",
    "a //= 5\n",
    "print(a)"
   ]
  },
  {
   "cell_type": "markdown",
   "metadata": {},
   "source": [
    "# Comparision Operators\n",
    "* ==\n",
    "* !=\n",
    "* (>)\n",
    "* (<)\n",
    "* (>=)\n",
    "* (<=)\n"
   ]
  },
  {
   "cell_type": "code",
   "execution_count": null,
   "metadata": {},
   "outputs": [],
   "source": [
    "a : int = 7\n",
    "b : int = 6\n",
    "# print(a == b)\n",
    "# print(a == a)\n",
    "\n",
    "c : str = \"hamza\"\n",
    "d : str = \"Hamza\"\n",
    "print(id(c))\n",
    "print(id(d))\n",
    "print(c == d)\n",
    "print(c == c)"
   ]
  },
  {
   "cell_type": "code",
   "execution_count": null,
   "metadata": {},
   "outputs": [],
   "source": [
    "a : int = 7\n",
    "b : int = 6\n",
    "print(a != b)\n",
    "c : str = \"hamza\"\n",
    "d : str = \"Hamza\"\n",
    "print(c != d)"
   ]
  },
  {
   "cell_type": "code",
   "execution_count": null,
   "metadata": {},
   "outputs": [],
   "source": [
    "a : int = 7\n",
    "b : int = 6\n",
    "print(a > b)\n",
    "print(a > 7)"
   ]
  },
  {
   "cell_type": "code",
   "execution_count": null,
   "metadata": {},
   "outputs": [],
   "source": [
    "a : int = 7\n",
    "b : int = 6\n",
    "print(a < b)\n",
    "print(b < 6)\n"
   ]
  },
  {
   "cell_type": "code",
   "execution_count": null,
   "metadata": {},
   "outputs": [],
   "source": [
    "a : int = 7\n",
    "b : int = 6\n",
    "print(a >= b)\n",
    "print(a >= 7)"
   ]
  },
  {
   "cell_type": "code",
   "execution_count": null,
   "metadata": {},
   "outputs": [],
   "source": [
    "a : int = 7\n",
    "b : int = 6\n",
    "print(a <= 8)\n",
    "print(a <= 7)\n",
    "print(a <= 6)"
   ]
  },
  {
   "cell_type": "markdown",
   "metadata": {},
   "source": [
    "# Logical Operators\n",
    "* and (all comparision should True)\n",
    "* or (At least one logic should True)\n",
    "* not"
   ]
  },
  {
   "cell_type": "code",
   "execution_count": 63,
   "metadata": {},
   "outputs": [
    {
     "name": "stdout",
     "output_type": "stream",
     "text": [
      "False\n",
      "True\n"
     ]
    }
   ],
   "source": [
    "a : int = 7\n",
    "b : int = 6\n",
    "result :bool = b == a and a > b and b >= a and a == b\n",
    "#               False      True       False       False\n",
    "print(result)\n",
    "result :bool = b == 6 and a > b and b >= 6\n",
    "print(result)"
   ]
  },
  {
   "cell_type": "code",
   "execution_count": 65,
   "metadata": {},
   "outputs": [
    {
     "name": "stdout",
     "output_type": "stream",
     "text": [
      "True\n"
     ]
    }
   ],
   "source": [
    "a : int = 7\n",
    "b : int = 6\n",
    "result :bool = b == a or a > b or b >= a or a == b\n",
    "#               False      True       False       False\n",
    "print(result)\n"
   ]
  },
  {
   "cell_type": "code",
   "execution_count": 69,
   "metadata": {},
   "outputs": [
    {
     "name": "stdout",
     "output_type": "stream",
     "text": [
      "False\n",
      "True\n",
      "True\n"
     ]
    }
   ],
   "source": [
    "name : str = \"hamza\"\n",
    "print(not name == \"hamza\")\n",
    "print(not name == \"Hamza\")\n",
    "print(name == \"hamza\")"
   ]
  },
  {
   "cell_type": "markdown",
   "metadata": {},
   "source": [
    "# Identity OPerators\n",
    "* is \n",
    "* is not"
   ]
  },
  {
   "cell_type": "code",
   "execution_count": 73,
   "metadata": {},
   "outputs": [
    {
     "name": "stdout",
     "output_type": "stream",
     "text": [
      "False\n"
     ]
    }
   ],
   "source": [
    "name_1 :str = \"Hamza\"\n",
    "name_2 :str = \"hamza\"\n",
    "\n",
    "print(name_1 is name_2)"
   ]
  },
  {
   "cell_type": "code",
   "execution_count": 76,
   "metadata": {},
   "outputs": [
    {
     "name": "stdout",
     "output_type": "stream",
     "text": [
      "True\n",
      "False\n"
     ]
    }
   ],
   "source": [
    "name_1 :str = \"Hamza\"\n",
    "name_2 :str = \"Aslam\"\n",
    "\n",
    "print(name_1 is not name_2)\n",
    "print(name_1 is not name_1)"
   ]
  },
  {
   "cell_type": "markdown",
   "metadata": {},
   "source": [
    "# Membership Operators\n",
    "* in\n",
    "* not in"
   ]
  },
  {
   "cell_type": "code",
   "execution_count": 2,
   "metadata": {},
   "outputs": [
    {
     "name": "stdout",
     "output_type": "stream",
     "text": [
      "False\n"
     ]
    }
   ],
   "source": [
    "from typing import List\n",
    "names: List[str] = [\"Hamza\", \"Aslam\", \"Yousuf\"]\n",
    "print(\"Hamza\" in names)"
   ]
  },
  {
   "cell_type": "code",
   "execution_count": 78,
   "metadata": {},
   "outputs": [
    {
     "name": "stdout",
     "output_type": "stream",
     "text": [
      "False\n"
     ]
    }
   ],
   "source": [
    "from typing import List\n",
    "names: List[str] = [\"Hamza\", \"Aslam\", \"Yousuf\"]\n",
    "print(\"Hamza\" not in names)"
   ]
  },
  {
   "cell_type": "markdown",
   "metadata": {},
   "source": [
    "# Loop"
   ]
  },
  {
   "cell_type": "code",
   "execution_count": 80,
   "metadata": {},
   "outputs": [
    {
     "name": "stdout",
     "output_type": "stream",
     "text": [
      "Hello Hamza\n",
      "Hello Aslam\n",
      "Hello Yousuf\n"
     ]
    }
   ],
   "source": [
    "from typing import List\n",
    "names: List[str] = [\"Hamza\", \"Aslam\", \"Yousuf\"]\n",
    "print(f'Hello {names[0]}')\n",
    "print(f'Hello {names[1]}')\n",
    "print(f'Hello {names[2]}')\n"
   ]
  },
  {
   "cell_type": "markdown",
   "metadata": {},
   "source": [
    "# for Loop\n",
    "``` \n",
    "for local_variable_name in iterable_type:\n",
    "    logic\n",
    "```"
   ]
  },
  {
   "cell_type": "code",
   "execution_count": 82,
   "metadata": {},
   "outputs": [
    {
     "name": "stdout",
     "output_type": "stream",
     "text": [
      "Hello Hamza\n",
      "Hello Aslam\n",
      "Hello Yousuf\n"
     ]
    }
   ],
   "source": [
    "from typing import List\n",
    "names: List[str] = [\"Hamza\", \"Aslam\", \"Yousuf\"]\n",
    "for name in names:\n",
    "    print(f'Hello {name}')"
   ]
  }
 ],
 "metadata": {
  "kernelspec": {
   "display_name": "Python 3",
   "language": "python",
   "name": "python3"
  },
  "language_info": {
   "codemirror_mode": {
    "name": "ipython",
    "version": 3
   },
   "file_extension": ".py",
   "mimetype": "text/x-python",
   "name": "python",
   "nbconvert_exporter": "python",
   "pygments_lexer": "ipython3",
   "version": "3.12.5"
  }
 },
 "nbformat": 4,
 "nbformat_minor": 2
}
