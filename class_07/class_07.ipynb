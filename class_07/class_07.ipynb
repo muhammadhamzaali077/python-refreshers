{
  "nbformat": 4,
  "nbformat_minor": 0,
  "metadata": {
    "colab": {
      "provenance": [],
      "gpuType": "T4"
    },
    "kernelspec": {
      "name": "python3",
      "display_name": "Python 3"
    },
    "language_info": {
      "name": "python"
    },
    "accelerator": "GPU"
  },
  "cells": [
    {
      "cell_type": "markdown",
      "source": [
        "# for loop\n",
        "* where you know the sequence of condition\n",
        "* apllied type\n",
        "  * list\n",
        "  * tuple\n",
        "  * set\n",
        "  * dict\n",
        "## syntax\n",
        "```\n",
        "for item in sequence:\n",
        "  logic\n",
        "```"
      ],
      "metadata": {
        "id": "ghHWmgDzd1Sa"
      }
    },
    {
      "cell_type": "code",
      "source": [
        "from typing import List\n",
        "students : List[str] = [\"hamza\", \"usama\", \"hunain\"]\n",
        "for student in students:\n",
        "  print(student)"
      ],
      "metadata": {
        "colab": {
          "base_uri": "https://localhost:8080/"
        },
        "id": "uYDFAr9UeAa5",
        "outputId": "53cbae5a-b58a-4b3d-a984-173d3b9c7580"
      },
      "execution_count": 8,
      "outputs": [
        {
          "output_type": "stream",
          "name": "stdout",
          "text": [
            "hamza\n",
            "usama\n",
            "hunain\n"
          ]
        }
      ]
    },
    {
      "cell_type": "markdown",
      "source": [
        "# while Loop\n",
        "* where you don't know sequence\n",
        "\n",
        "## syntax\n",
        " ```\n",
        " while condition:\n",
        "  logic\n",
        "```"
      ],
      "metadata": {
        "id": "lThQ0yqgemDC"
      }
    },
    {
      "cell_type": "code",
      "source": [
        "start_count = 0\n",
        "while start_count <= 5:\n",
        "  print(start_count)\n",
        "  start_count += 1"
      ],
      "metadata": {
        "colab": {
          "base_uri": "https://localhost:8080/"
        },
        "id": "SmzC5eoqfKXw",
        "outputId": "684eb65f-fe3e-470d-b1ad-b728808aeadc"
      },
      "execution_count": 1,
      "outputs": [
        {
          "output_type": "stream",
          "name": "stdout",
          "text": [
            "0\n",
            "1\n",
            "2\n",
            "3\n",
            "4\n",
            "5\n"
          ]
        }
      ]
    },
    {
      "cell_type": "markdown",
      "source": [
        "# Input\n",
        "* return string value\n",
        "* ask runtime input"
      ],
      "metadata": {
        "id": "X1_PMoC8hFX5"
      }
    },
    {
      "cell_type": "code",
      "source": [
        "user_input :str = input(\"Enter city name\")\n",
        "print(type(user_input))\n",
        "print(user_input)"
      ],
      "metadata": {
        "colab": {
          "base_uri": "https://localhost:8080/"
        },
        "id": "WRRsmEVygtUl",
        "outputId": "e09c7479-c1c0-4fce-d121-ee44dba11fd2"
      },
      "execution_count": 5,
      "outputs": [
        {
          "output_type": "stream",
          "name": "stdout",
          "text": [
            "Enter city name88\n",
            "<class 'str'>\n",
            "88\n"
          ]
        }
      ]
    },
    {
      "cell_type": "code",
      "source": [
        "number = \"88\"\n",
        "print(type(number))\n",
        "number = int(number)\n",
        "print(type(number))"
      ],
      "metadata": {
        "colab": {
          "base_uri": "https://localhost:8080/"
        },
        "id": "W7z4tJdjiOPo",
        "outputId": "c651d664-16ab-4ece-f71d-a09c0867bf87"
      },
      "execution_count": 6,
      "outputs": [
        {
          "output_type": "stream",
          "name": "stdout",
          "text": [
            "<class 'str'>\n",
            "<class 'int'>\n"
          ]
        }
      ]
    },
    {
      "cell_type": "code",
      "source": [
        "city :str = \"Enter the city name you visited: \"\n",
        "city += \"\\nEnter Quit to stop loop\"\n",
        "\n",
        "condition = True\n",
        "while condition:\n",
        "\n",
        "  ask_input = input(city)\n",
        "  if ask_input == \"quit\":\n",
        "    break\n",
        "  else:\n",
        "    print(ask_input.title())"
      ],
      "metadata": {
        "colab": {
          "base_uri": "https://localhost:8080/"
        },
        "id": "b5jPVmriihRe",
        "outputId": "c3a49b91-bd41-4642-a9d6-f7505ed89931"
      },
      "execution_count": 2,
      "outputs": [
        {
          "name": "stdout",
          "output_type": "stream",
          "text": [
            "Enter the city name you visited: \n",
            "Enter Quit to stop loopkarachi\n",
            "Karachi\n",
            "Enter the city name you visited: \n",
            "Enter Quit to stop looplahore\n",
            "Lahore\n",
            "Enter the city name you visited: \n",
            "Enter Quit to stop loopquit\n"
          ]
        }
      ]
    },
    {
      "cell_type": "markdown",
      "source": [
        "# loop controls\n",
        "* break\n",
        "* continue\n",
        "* pass"
      ],
      "metadata": {
        "id": "aUD9iBJumXdU"
      }
    },
    {
      "cell_type": "code",
      "source": [
        "from typing import List\n",
        "students : List[str] = [\"hamza\", \"usama\", \"hunain\"]\n",
        "for student in students:\n",
        "  if student != \"usama\":\n",
        "    print(student)\n",
        "  else:\n",
        "    break"
      ],
      "metadata": {
        "colab": {
          "base_uri": "https://localhost:8080/"
        },
        "id": "DIoN8GcEmv_l",
        "outputId": "6c20ce0b-8fa5-42da-b6be-5ec293175f8c"
      },
      "execution_count": 8,
      "outputs": [
        {
          "output_type": "stream",
          "name": "stdout",
          "text": [
            "hamza\n"
          ]
        }
      ]
    },
    {
      "cell_type": "code",
      "source": [
        "from typing import List\n",
        "contacts : List[str] = [\"hamza\", \"usama\", \"hunain\"]\n",
        "for contact in contacts:\n",
        "  if contact == \"usama\":\n",
        "    continue\n",
        "  print(f\"hello {contact}\")\n"
      ],
      "metadata": {
        "colab": {
          "base_uri": "https://localhost:8080/"
        },
        "id": "ka_r4PWunmrx",
        "outputId": "7e6d8388-34dd-4816-ca20-130486c25662"
      },
      "execution_count": 11,
      "outputs": [
        {
          "output_type": "stream",
          "name": "stdout",
          "text": [
            "hello hamza\n",
            "hello hunain\n"
          ]
        }
      ]
    },
    {
      "cell_type": "code",
      "source": [
        "from typing import List\n",
        "contacts : List[str] = [\"hamza\", \"usama\", \"hunain\"]\n",
        "for conatact in contacts:\n",
        "  pass"
      ],
      "metadata": {
        "id": "cgV4e8lOoJ_w"
      },
      "execution_count": 13,
      "outputs": []
    },
    {
      "cell_type": "code",
      "source": [
        "from typing import Dict\n",
        "data : Dict[str,str] = {}\n",
        "while True:\n",
        "  user_name = input(\"enter youre name \")\n",
        "  user_mountain = input(\"Enter the mountain name you want to climb \")\n",
        "  data[user_name] = user_mountain\n",
        "  repeat = input(\"would you like to let another person response (yes/no)\")\n",
        "  if repeat == \"no\":\n",
        "    break\n",
        "for name, mountain in data.items():\n",
        "  print(f\"{name} wants to climb {mountain}\")\n"
      ],
      "metadata": {
        "colab": {
          "base_uri": "https://localhost:8080/"
        },
        "id": "KAjnGzsko4Au",
        "outputId": "724c089b-ae71-4d29-aa80-183a77c1d1ad"
      },
      "execution_count": 2,
      "outputs": [
        {
          "output_type": "stream",
          "name": "stdout",
          "text": [
            "enter youre name hamza\n",
            "Enter the mountain name you want to climb k2\n",
            "would you like to let another person response (yes/no)yes\n",
            "enter youre name ali\n",
            "Enter the mountain name you want to climb everest\n",
            "would you like to let another person response (yes/no)no\n",
            "hamza wants to climb k2\n",
            "ali wants to climb everest\n"
          ]
        }
      ]
    },
    {
      "cell_type": "code",
      "source": [
        "prompt = \"\\nTell me something, and I will repeat it back to you:\"\n",
        "prompt += \"\\nEnter 'quit' to end the program. \"\n",
        "\n",
        "message = \"\"\n",
        "while message != 'quit':\n",
        "    message = input(prompt)\n",
        "    print(message)"
      ],
      "metadata": {
        "colab": {
          "base_uri": "https://localhost:8080/"
        },
        "id": "7sWq0e4frXS5",
        "outputId": "46f89e5f-f31a-4a16-bd92-d2440996317a"
      },
      "execution_count": 3,
      "outputs": [
        {
          "output_type": "stream",
          "name": "stdout",
          "text": [
            "\n",
            "Tell me something, and I will repeat it back to you:\n",
            "Enter 'quit' to end the program. i'm a developer\n",
            "i'm a developer\n",
            "\n",
            "Tell me something, and I will repeat it back to you:\n",
            "Enter 'quit' to end the program. my name is hamza\n",
            "my name is hamza\n",
            "\n",
            "Tell me something, and I will repeat it back to you:\n",
            "Enter 'quit' to end the program. quit\n",
            "quit\n"
          ]
        }
      ]
    },
    {
      "cell_type": "code",
      "source": [
        "prompt = \"enter your height\"\n",
        "user_height = int(input((prompt)))\n",
        "\n",
        "while user_height >=48:\n",
        "  print(\"you can ride\")\n",
        "  break\n",
        "else:\n",
        "  print(\"you can't ride\")"
      ],
      "metadata": {
        "colab": {
          "base_uri": "https://localhost:8080/"
        },
        "id": "Uf6dthkAr4vO",
        "outputId": "64310880-22e5-4507-cee7-e1b3b18b851a"
      },
      "execution_count": 2,
      "outputs": [
        {
          "output_type": "stream",
          "name": "stdout",
          "text": [
            "enter your height 45\n",
            "you can't ride\n"
          ]
        }
      ]
    }
  ]
}