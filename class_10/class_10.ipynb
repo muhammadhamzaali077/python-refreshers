{
  "nbformat": 4,
  "nbformat_minor": 0,
  "metadata": {
    "colab": {
      "provenance": []
    },
    "kernelspec": {
      "name": "python3",
      "display_name": "Python 3"
    },
    "language_info": {
      "name": "python"
    }
  },
  "cells": [
    {
      "cell_type": "markdown",
      "source": [
        "# file I/O\n",
        "* open(\"file path\", \"mode\")"
      ],
      "metadata": {
        "id": "rIOAB70jxh0O"
      }
    },
    {
      "cell_type": "code",
      "source": [
        "file = open(\"sample.txt\", \"r\")\n",
        "print(file.read())\n",
        "file.close()"
      ],
      "metadata": {
        "colab": {
          "base_uri": "https://localhost:8080/"
        },
        "id": "02UPD6GSxsns",
        "outputId": "6a7b5852-1dfd-490e-b7d5-5c0fa51d041e"
      },
      "execution_count": 5,
      "outputs": [
        {
          "output_type": "stream",
          "name": "stdout",
          "text": [
            "pakistan zindabad\n"
          ]
        }
      ]
    },
    {
      "cell_type": "code",
      "source": [],
      "metadata": {
        "id": "mKKWGk3U0VX3"
      },
      "execution_count": null,
      "outputs": []
    },
    {
      "cell_type": "code",
      "source": [
        "[i for i in dir(file) if \"__\" not in i]"
      ],
      "metadata": {
        "colab": {
          "base_uri": "https://localhost:8080/"
        },
        "id": "zPkUMUVIziqB",
        "outputId": "0af8103f-ba69-4444-efbf-7d0d3283092b"
      },
      "execution_count": 4,
      "outputs": [
        {
          "output_type": "execute_result",
          "data": {
            "text/plain": [
              "['_CHUNK_SIZE',\n",
              " '_checkClosed',\n",
              " '_checkReadable',\n",
              " '_checkSeekable',\n",
              " '_checkWritable',\n",
              " '_finalizing',\n",
              " 'buffer',\n",
              " 'close',\n",
              " 'closed',\n",
              " 'detach',\n",
              " 'encoding',\n",
              " 'errors',\n",
              " 'fileno',\n",
              " 'flush',\n",
              " 'isatty',\n",
              " 'line_buffering',\n",
              " 'mode',\n",
              " 'name',\n",
              " 'newlines',\n",
              " 'read',\n",
              " 'readable',\n",
              " 'readline',\n",
              " 'readlines',\n",
              " 'reconfigure',\n",
              " 'seek',\n",
              " 'seekable',\n",
              " 'tell',\n",
              " 'truncate',\n",
              " 'writable',\n",
              " 'write',\n",
              " 'write_through',\n",
              " 'writelines']"
            ]
          },
          "metadata": {},
          "execution_count": 4
        }
      ]
    },
    {
      "cell_type": "code",
      "source": [
        "file = open(\"sample.txt\", \"r\")\n",
        "print(file.read())\n",
        "file.close()"
      ],
      "metadata": {
        "colab": {
          "base_uri": "https://localhost:8080/"
        },
        "id": "pO1W7TK90Wj1",
        "outputId": "11513fe2-4823-4177-d1b9-e7743ba7db2e"
      },
      "execution_count": 12,
      "outputs": [
        {
          "output_type": "stream",
          "name": "stdout",
          "text": [
            "pakistan zindabad\n",
            "we love our country\n"
          ]
        }
      ]
    },
    {
      "cell_type": "code",
      "source": [
        "file = open(\"sample.txt\", \"r\")\n",
        "print(file.read(8))\n",
        "file.close()"
      ],
      "metadata": {
        "colab": {
          "base_uri": "https://localhost:8080/"
        },
        "id": "W0aLgmM-1JUb",
        "outputId": "3be61ca0-dfdd-4b2b-9269-653ad6cc6716"
      },
      "execution_count": 11,
      "outputs": [
        {
          "output_type": "stream",
          "name": "stdout",
          "text": [
            "pakistan\n"
          ]
        }
      ]
    },
    {
      "cell_type": "code",
      "source": [
        "file = open(\"sample.txt\", \"r\")\n",
        "line1 = file.readline()\n",
        "line2 = file.readline()\n",
        "print(line1)\n",
        "print(line2)\n",
        "file.close()"
      ],
      "metadata": {
        "colab": {
          "base_uri": "https://localhost:8080/"
        },
        "id": "qIsJRzEU3hWR",
        "outputId": "340bcafd-00c4-4add-d4e4-2bd0f070e2de"
      },
      "execution_count": 14,
      "outputs": [
        {
          "output_type": "stream",
          "name": "stdout",
          "text": [
            "pakistan zindabad\n",
            "\n",
            "we love our country\n"
          ]
        }
      ]
    },
    {
      "cell_type": "code",
      "source": [
        "file = open(\"sample.txt\", \"r\")\n",
        "lines = file.readlines()\n",
        "print(lines)\n",
        "file.close()"
      ],
      "metadata": {
        "colab": {
          "base_uri": "https://localhost:8080/"
        },
        "id": "1PAgzHYJ3_OD",
        "outputId": "69a30683-812f-4c1b-93f8-b8ce0a221565"
      },
      "execution_count": 15,
      "outputs": [
        {
          "output_type": "stream",
          "name": "stdout",
          "text": [
            "['pakistan zindabad\\n', 'we love our country']\n"
          ]
        }
      ]
    },
    {
      "cell_type": "code",
      "source": [
        "file = open(\"sample.txt\", \"r\")\n",
        "\n",
        "print(file.read())\n",
        "print(file.write(\"hello this is muhammad hamza\"))\n",
        "file.close()"
      ],
      "metadata": {
        "colab": {
          "base_uri": "https://localhost:8080/",
          "height": 238
        },
        "id": "PHjqhraB4WQK",
        "outputId": "c76f2591-5394-4ed3-cd34-78aaea9502c1"
      },
      "execution_count": 16,
      "outputs": [
        {
          "output_type": "stream",
          "name": "stdout",
          "text": [
            "pakistan zindabad\n",
            "we love our country\n"
          ]
        },
        {
          "output_type": "error",
          "ename": "UnsupportedOperation",
          "evalue": "not writable",
          "traceback": [
            "\u001b[0;31m---------------------------------------------------------------------------\u001b[0m",
            "\u001b[0;31mUnsupportedOperation\u001b[0m                      Traceback (most recent call last)",
            "\u001b[0;32m<ipython-input-16-ff1be58331c1>\u001b[0m in \u001b[0;36m<cell line: 4>\u001b[0;34m()\u001b[0m\n\u001b[1;32m      2\u001b[0m \u001b[0;34m\u001b[0m\u001b[0m\n\u001b[1;32m      3\u001b[0m \u001b[0mprint\u001b[0m\u001b[0;34m(\u001b[0m\u001b[0mfile\u001b[0m\u001b[0;34m.\u001b[0m\u001b[0mread\u001b[0m\u001b[0;34m(\u001b[0m\u001b[0;34m)\u001b[0m\u001b[0;34m)\u001b[0m\u001b[0;34m\u001b[0m\u001b[0;34m\u001b[0m\u001b[0m\n\u001b[0;32m----> 4\u001b[0;31m \u001b[0mprint\u001b[0m\u001b[0;34m(\u001b[0m\u001b[0mfile\u001b[0m\u001b[0;34m.\u001b[0m\u001b[0mwrite\u001b[0m\u001b[0;34m(\u001b[0m\u001b[0;34m\"hello this is muhammad hamza\"\u001b[0m\u001b[0;34m)\u001b[0m\u001b[0;34m)\u001b[0m\u001b[0;34m\u001b[0m\u001b[0;34m\u001b[0m\u001b[0m\n\u001b[0m\u001b[1;32m      5\u001b[0m \u001b[0mfile\u001b[0m\u001b[0;34m.\u001b[0m\u001b[0mclose\u001b[0m\u001b[0;34m(\u001b[0m\u001b[0;34m)\u001b[0m\u001b[0;34m\u001b[0m\u001b[0;34m\u001b[0m\u001b[0m\n",
            "\u001b[0;31mUnsupportedOperation\u001b[0m: not writable"
          ]
        }
      ]
    },
    {
      "cell_type": "markdown",
      "source": [
        "# w mode"
      ],
      "metadata": {
        "id": "Cf4xlRBx4xQn"
      }
    },
    {
      "cell_type": "code",
      "source": [
        "file = open(\"sample.txt\", \"w\")\n",
        "print(file.write(\"hello this is muhammad hamza\"))\n",
        "file.write(\"\\nwe're learning python\")\n",
        "file.close()"
      ],
      "metadata": {
        "colab": {
          "base_uri": "https://localhost:8080/"
        },
        "id": "FQfD5CUG4wlC",
        "outputId": "9450c031-2ebf-4646-e62a-426fd4c83509"
      },
      "execution_count": 24,
      "outputs": [
        {
          "output_type": "stream",
          "name": "stdout",
          "text": [
            "28\n"
          ]
        }
      ]
    },
    {
      "cell_type": "markdown",
      "source": [],
      "metadata": {
        "id": "DzGY7-Xm6jl7"
      }
    },
    {
      "cell_type": "code",
      "source": [
        "file = open(\"sample.txt\", \"r\")\n",
        "print(file.read())\n",
        "file.close()"
      ],
      "metadata": {
        "colab": {
          "base_uri": "https://localhost:8080/"
        },
        "id": "zrodqPcF5fKQ",
        "outputId": "3880bfd5-d069-49fc-98ef-3852ae873f4d"
      },
      "execution_count": 25,
      "outputs": [
        {
          "output_type": "stream",
          "name": "stdout",
          "text": [
            "hello this is muhammad hamza\n",
            "we're learning python\n"
          ]
        }
      ]
    },
    {
      "cell_type": "markdown",
      "source": [
        "# with keyword\n",
        "* with open(\"file_path\", \"mode\") as file:\n",
        "    statement"
      ],
      "metadata": {
        "id": "x0cgtG896kQz"
      }
    },
    {
      "cell_type": "code",
      "source": [
        "with open(\"abc.txt\",\"w\")as file:\n",
        "  file.write(\"this is abc file\\nthis is new line\")\n",
        "with open(\"abc.txt\",\"r\") as file:\n",
        "  print(file.readline())\n",
        "  print(file.readline())"
      ],
      "metadata": {
        "colab": {
          "base_uri": "https://localhost:8080/"
        },
        "id": "Z1c8DjGR6mnm",
        "outputId": "8cbfa2b6-00c0-41a5-d946-8181237a6ffa"
      },
      "execution_count": 31,
      "outputs": [
        {
          "output_type": "stream",
          "name": "stdout",
          "text": [
            "this is abc file\n",
            "\n",
            "this is new line\n"
          ]
        }
      ]
    },
    {
      "cell_type": "markdown",
      "source": [
        "# a (append)"
      ],
      "metadata": {
        "id": "TTOJA6zJ8NDv"
      }
    },
    {
      "cell_type": "code",
      "source": [],
      "metadata": {
        "id": "9ZK5reRq9OQQ"
      },
      "execution_count": null,
      "outputs": []
    },
    {
      "cell_type": "code",
      "source": [
        "with open(\"xyz.txt\", \"a\") as file:\n",
        "  file.write(\"\\nappending in the last\")\n",
        "with open(\"xyz.txt\", \"r\") as file:\n",
        "  content = file.read()\n",
        "  print(content)"
      ],
      "metadata": {
        "colab": {
          "base_uri": "https://localhost:8080/"
        },
        "id": "iUFodTGY8QWu",
        "outputId": "ea992385-8092-4991-948b-c94434ab6d6f"
      },
      "execution_count": 40,
      "outputs": [
        {
          "output_type": "stream",
          "name": "stdout",
          "text": [
            "start of text\n",
            "appending in the lats\n",
            "appending in the last\n",
            "appending in the last\n",
            "appending in the last\n"
          ]
        }
      ]
    },
    {
      "cell_type": "markdown",
      "source": [
        "# r+ (read and write)"
      ],
      "metadata": {
        "id": "Xs9lvzU9-aB3"
      }
    },
    {
      "cell_type": "code",
      "source": [
        "with open(\"xyz.txt\", \"r+\") as file:\n",
        "  file.write(\"new\")\n",
        "  print(file.read())\n",
        "  print(file.read())"
      ],
      "metadata": {
        "colab": {
          "base_uri": "https://localhost:8080/"
        },
        "id": "RQodAY3U-blf",
        "outputId": "9a53e869-f7d9-4d5d-c9de-0c07cbdcbf1c"
      },
      "execution_count": 50,
      "outputs": [
        {
          "output_type": "stream",
          "name": "stdout",
          "text": [
            "rt of file\n",
            "appending in the lats\n",
            "appending in the last\n",
            "appending in the last\n",
            "appending in the last\n",
            "new line is added\n",
            "new line is added\n",
            "\n"
          ]
        }
      ]
    },
    {
      "cell_type": "code",
      "source": [],
      "metadata": {
        "id": "UjvvWYCo-nKW"
      },
      "execution_count": null,
      "outputs": []
    },
    {
      "cell_type": "markdown",
      "source": [
        "# w+ ( read and write and truncate the file)"
      ],
      "metadata": {
        "id": "Jli7dNAUAdw7"
      }
    },
    {
      "cell_type": "code",
      "source": [
        "with open(\"newfile.txt\", \"w+\") as file:\n",
        "  file.write(\"line number 1\")\n",
        "  print(file.read())"
      ],
      "metadata": {
        "colab": {
          "base_uri": "https://localhost:8080/"
        },
        "id": "GYDm_hJcAilG",
        "outputId": "e4ba4943-c3cb-417e-8842-aac20d6968ff"
      },
      "execution_count": 54,
      "outputs": [
        {
          "output_type": "stream",
          "name": "stdout",
          "text": [
            "\n"
          ]
        }
      ]
    },
    {
      "cell_type": "code",
      "source": [
        "with open(\"newfile.txt\", \"w+\") as file:\n",
        "  file.write(\"line number 1\")\n",
        "  file.seek(0)\n",
        "  print(file.read())\n",
        "  file.seek(5)\n",
        "  print(file.read())"
      ],
      "metadata": {
        "colab": {
          "base_uri": "https://localhost:8080/"
        },
        "id": "AzjiTzV1BMfp",
        "outputId": "5e0af57d-ceed-4ba0-a637-0eb7cd992fdf"
      },
      "execution_count": 56,
      "outputs": [
        {
          "output_type": "stream",
          "name": "stdout",
          "text": [
            "line number 1\n",
            "number 1\n"
          ]
        }
      ]
    },
    {
      "cell_type": "markdown",
      "source": [
        "# a+ (read and append)"
      ],
      "metadata": {
        "id": "VVVYTuxmB2_-"
      }
    },
    {
      "cell_type": "code",
      "source": [
        "with open(\"xyz.txt\", \"a+\") as file:\n",
        "  file.write(\"\\nline number 1\")\n",
        "  file.seek(0)\n",
        "  print(file.read())"
      ],
      "metadata": {
        "colab": {
          "base_uri": "https://localhost:8080/"
        },
        "id": "eGpAogHZB6vG",
        "outputId": "c351aa31-acea-48e2-b0c5-0558a319f421"
      },
      "execution_count": 68,
      "outputs": [
        {
          "output_type": "stream",
          "name": "stdout",
          "text": [
            "newrt of file\n",
            "appending in the lats\n",
            "appending in the last\n",
            "appending in the last\n",
            "appending in the last\n",
            "new line is added\n",
            "new line is added\n",
            "line number 1\n"
          ]
        }
      ]
    },
    {
      "cell_type": "markdown",
      "source": [
        "# combining modes"
      ],
      "metadata": {
        "id": "UZvI1lTnDGhL"
      }
    },
    {
      "cell_type": "code",
      "source": [
        "with open(\"xyz.txt\", \"r+\") as file:\n",
        "  print(file.read())\n",
        "  file.write(\"\\nend of the file\")"
      ],
      "metadata": {
        "colab": {
          "base_uri": "https://localhost:8080/"
        },
        "id": "w4oKoiVlDIlj",
        "outputId": "6b78ddcb-9b58-4190-f343-258dcc2bd186"
      },
      "execution_count": 72,
      "outputs": [
        {
          "output_type": "stream",
          "name": "stdout",
          "text": [
            "newrt of file\n",
            "appending in the lats\n",
            "appending in the last\n",
            "appending in the last\n",
            "appending in the last\n",
            "new line is added\n",
            "new line is added\n",
            "line number 1\n"
          ]
        }
      ]
    }
  ]
}