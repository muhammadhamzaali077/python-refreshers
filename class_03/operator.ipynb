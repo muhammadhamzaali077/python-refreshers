{
 "cells": [
  {
   "cell_type": "code",
   "execution_count": 3,
   "metadata": {},
   "outputs": [
    {
     "name": "stdout",
     "output_type": "stream",
     "text": [
      "hello WOrld\n",
      "hello WOrld\n",
      "hello WOrld\n",
      "hello WOrld\n"
     ]
    }
   ],
   "source": [
    "print(\"hello WOrld\")\n",
    "print(\"hello WOrld\")\n",
    "print(\"hello WOrld\")\n",
    "print(\"hello WOrld\")  # 3 hours"
   ]
  },
  {
   "cell_type": "code",
   "execution_count": null,
   "metadata": {},
   "outputs": [],
   "source": [
    "print(\"hello WOrld\")\n",
    "print(\"hello WOrld\")\n",
    "print(\"hello WOrld\")\n",
    "print(\"hello WOrld\")\n",
    "print(\"hello WOrld\")\n",
    "print(\"hello WOrld\")\n",
    "print(\"hello WOrld\")\n",
    "print(\"hello WOrld\")\n",
    "print(\"hello WOrld\")\n",
    "print(\"hello WOrld\")\n",
    "print(\"hello WOrld\")"
   ]
  },
  {
   "cell_type": "markdown",
   "metadata": {},
   "source": [
    "# Data Types\n",
    "* String (str)  \"\" '' any text in single or double quotation\n",
    "* Number (int) any number\n",
    "* Float (float) any number in decimal (5.3)\n",
    "* Boolean (Bool) only True Flase\n",
    "* List (List)"
   ]
  },
  {
   "cell_type": "markdown",
   "metadata": {},
   "source": [
    "# operators\n",
    "* Arthmatic Operator\n",
    "    * Addition(+)\n",
    "    * Subtraction(-)\n",
    "    * Multiplication(*)\n",
    "    * Division(/)\n",
    "    * modulus(%)\n",
    "    * Floor Division(//)"
   ]
  },
  {
   "cell_type": "code",
   "execution_count": 6,
   "metadata": {},
   "outputs": [
    {
     "name": "stdout",
     "output_type": "stream",
     "text": [
      "11\n",
      "Hamza Aslam\n"
     ]
    }
   ],
   "source": [
    "# Adddition\n",
    "number_1 : int = 5\n",
    "number_2 : int = 6\n",
    "print(number_1 + number_2)\n",
    "\n",
    "name_1 : str = \"Hamza\"\n",
    "name_2 : str = \"Aslam\"\n",
    "print(name_1 + \" \" + name_2)"
   ]
  },
  {
   "cell_type": "code",
   "execution_count": 10,
   "metadata": {},
   "outputs": [
    {
     "name": "stdout",
     "output_type": "stream",
     "text": [
      "1\n"
     ]
    },
    {
     "ename": "TypeError",
     "evalue": "unsupported operand type(s) for -: 'str' and 'str'",
     "output_type": "error",
     "traceback": [
      "\u001b[1;31m---------------------------------------------------------------------------\u001b[0m",
      "\u001b[1;31mTypeError\u001b[0m                                 Traceback (most recent call last)",
      "Cell \u001b[1;32mIn[10], line 7\u001b[0m\n\u001b[0;32m      5\u001b[0m name_1 : \u001b[38;5;28mstr\u001b[39m \u001b[38;5;241m=\u001b[39m \u001b[38;5;124m\"\u001b[39m\u001b[38;5;124mHamza\u001b[39m\u001b[38;5;124m\"\u001b[39m\n\u001b[0;32m      6\u001b[0m name_2 : \u001b[38;5;28mstr\u001b[39m \u001b[38;5;241m=\u001b[39m \u001b[38;5;124m\"\u001b[39m\u001b[38;5;124mAslam\u001b[39m\u001b[38;5;124m\"\u001b[39m\n\u001b[1;32m----> 7\u001b[0m \u001b[38;5;28mprint\u001b[39m(\u001b[43mname_1\u001b[49m\u001b[43m \u001b[49m\u001b[38;5;241;43m-\u001b[39;49m\u001b[43m \u001b[49m\u001b[43mname_2\u001b[49m)\n",
      "\u001b[1;31mTypeError\u001b[0m: unsupported operand type(s) for -: 'str' and 'str'"
     ]
    }
   ],
   "source": [
    "# subtraction\n",
    "number_1 : int = 6\n",
    "number_2 : int = 5\n",
    "print(number_1 - number_2)\n",
    "name_1 : str = \"Hamza\"\n",
    "name_2 : str = \"Aslam\"\n",
    "print(name_1 - name_2)"
   ]
  },
  {
   "cell_type": "code",
   "execution_count": 9,
   "metadata": {},
   "outputs": [
    {
     "name": "stdout",
     "output_type": "stream",
     "text": [
      "30\n"
     ]
    }
   ],
   "source": [
    "# Multiplication\n",
    "number_1 : int = 5\n",
    "number_2 : int = 6\n",
    "print(number_1 * number_2)"
   ]
  },
  {
   "cell_type": "code",
   "execution_count": 12,
   "metadata": {},
   "outputs": [
    {
     "name": "stdout",
     "output_type": "stream",
     "text": [
      "0.8333333333333334\n"
     ]
    },
    {
     "data": {
      "text/plain": [
       "float"
      ]
     },
     "execution_count": 12,
     "metadata": {},
     "output_type": "execute_result"
    }
   ],
   "source": [
    "# Division\n",
    "number_1 : int = 5\n",
    "number_2 : int = 6\n",
    "result : float = number_1 / number_2\n",
    "print(result)\n",
    "type(result)"
   ]
  },
  {
   "cell_type": "code",
   "execution_count": 14,
   "metadata": {},
   "outputs": [
    {
     "name": "stdout",
     "output_type": "stream",
     "text": [
      "1\n"
     ]
    }
   ],
   "source": [
    "# Modulus\n",
    "number_1 : int = 5 # -1 = 4\n",
    "number_2 : int = 2\n",
    "print(number_1 % number_2)"
   ]
  },
  {
   "cell_type": "code",
   "execution_count": 17,
   "metadata": {},
   "outputs": [
    {
     "name": "stdout",
     "output_type": "stream",
     "text": [
      "1.8\n",
      "1\n"
     ]
    }
   ],
   "source": [
    "# floor division\n",
    "number_1 : int = 9\n",
    "number_2 : int = 5\n",
    "print(number_1 / number_2)\n",
    "print(number_1 // number_2)"
   ]
  },
  {
   "cell_type": "markdown",
   "metadata": {},
   "source": [
    "# Assignment Operators\n",
    "* (=)\n",
    "* (+=)\n",
    "* (-+)\n",
    "* (*=)\n",
    "* (/=)\n",
    "* (%=)\n",
    "* (//=)"
   ]
  },
  {
   "cell_type": "code",
   "execution_count": 19,
   "metadata": {},
   "outputs": [
    {
     "name": "stdout",
     "output_type": "stream",
     "text": [
      "hamza\n"
     ]
    }
   ],
   "source": [
    "name:str = \"hamza\" \n",
    "print(name)"
   ]
  },
  {
   "cell_type": "code",
   "execution_count": 23,
   "metadata": {},
   "outputs": [
    {
     "name": "stdout",
     "output_type": "stream",
     "text": [
      "10\n"
     ]
    }
   ],
   "source": [
    "num: int = 5\n",
    "# num = num + 5\n",
    "# print(num)\n",
    "\n",
    "num += 5\n",
    "print(num)"
   ]
  },
  {
   "cell_type": "code",
   "execution_count": 25,
   "metadata": {},
   "outputs": [
    {
     "name": "stdout",
     "output_type": "stream",
     "text": [
      "3\n",
      "2\n"
     ]
    }
   ],
   "source": [
    "num: int = 5\n",
    "num = num - 2\n",
    "print(num)\n",
    "\n",
    "num -= 1\n",
    "print(num)"
   ]
  },
  {
   "cell_type": "code",
   "execution_count": 27,
   "metadata": {},
   "outputs": [
    {
     "name": "stdout",
     "output_type": "stream",
     "text": [
      "20\n"
     ]
    }
   ],
   "source": [
    "num: int = 5\n",
    "# num = num*3\n",
    "# print(num) \n",
    "num *= 4\n",
    "print(num)"
   ]
  },
  {
   "cell_type": "code",
   "execution_count": 30,
   "metadata": {},
   "outputs": [
    {
     "name": "stdout",
     "output_type": "stream",
     "text": [
      "3.3333333333333335\n"
     ]
    }
   ],
   "source": [
    "num: int = 10\n",
    "# num = num/3\n",
    "# print(num)\n",
    "num /= 3\n",
    "print(num)"
   ]
  },
  {
   "cell_type": "code",
   "execution_count": 32,
   "metadata": {},
   "outputs": [
    {
     "name": "stdout",
     "output_type": "stream",
     "text": [
      "1\n"
     ]
    }
   ],
   "source": [
    "num: int = 5\n",
    "# num = num%2\n",
    "# print(num)\n",
    "num %= 2\n",
    "print(num)"
   ]
  },
  {
   "cell_type": "code",
   "execution_count": 35,
   "metadata": {},
   "outputs": [
    {
     "name": "stdout",
     "output_type": "stream",
     "text": [
      "1.8\n",
      "1\n"
     ]
    }
   ],
   "source": [
    "num: int = 9\n",
    "print(num/5)\n",
    "# num = num//5\n",
    "\n",
    "num //= 5\n",
    "print(num)"
   ]
  },
  {
   "cell_type": "markdown",
   "metadata": {},
   "source": [
    "# comparision operator\n",
    "* (==)\n",
    "* (!=)\n",
    "* (>)\n",
    "* (<)\n",
    "* (>=)\n",
    "* (<=)\n"
   ]
  },
  {
   "cell_type": "code",
   "execution_count": 37,
   "metadata": {},
   "outputs": [
    {
     "name": "stdout",
     "output_type": "stream",
     "text": [
      "True\n",
      "False\n"
     ]
    }
   ],
   "source": [
    "num: int = 5\n",
    "print(num == 5)\n",
    "print(num == 6)"
   ]
  },
  {
   "cell_type": "code",
   "execution_count": 39,
   "metadata": {},
   "outputs": [
    {
     "name": "stdout",
     "output_type": "stream",
     "text": [
      "True\n",
      "False\n"
     ]
    }
   ],
   "source": [
    "num: int = 5\n",
    "print(num == 5)\n",
    "print(num != 5)"
   ]
  },
  {
   "cell_type": "code",
   "execution_count": 42,
   "metadata": {},
   "outputs": [
    {
     "name": "stdout",
     "output_type": "stream",
     "text": [
      "True\n",
      "False\n",
      "False\n"
     ]
    }
   ],
   "source": [
    "num: int = 5\n",
    "print(num > 4)\n",
    "print(num > 6)\n",
    "print(num > 5)"
   ]
  },
  {
   "cell_type": "code",
   "execution_count": 45,
   "metadata": {},
   "outputs": [
    {
     "name": "stdout",
     "output_type": "stream",
     "text": [
      "False\n",
      "True\n",
      "False\n"
     ]
    }
   ],
   "source": [
    "num: int = 5\n",
    "print(num < 4)\n",
    "print(num < 7)\n",
    "print(num < 5)"
   ]
  },
  {
   "cell_type": "code",
   "execution_count": 47,
   "metadata": {},
   "outputs": [
    {
     "name": "stdout",
     "output_type": "stream",
     "text": [
      "False\n",
      "True\n"
     ]
    }
   ],
   "source": [
    "num: int = 5\n",
    "print(num > 5)\n",
    "print(num >= 5)\n"
   ]
  },
  {
   "cell_type": "code",
   "execution_count": 48,
   "metadata": {},
   "outputs": [
    {
     "name": "stdout",
     "output_type": "stream",
     "text": [
      "False\n",
      "True\n"
     ]
    }
   ],
   "source": [
    "num: int = 5\n",
    "print(num < 5)\n",
    "print(num <= 5)"
   ]
  },
  {
   "cell_type": "markdown",
   "metadata": {},
   "source": [
    "# Logical Operators\n",
    "* and (all comparision should True) \n",
    "* or (At least one comparision should True)\n",
    "* not"
   ]
  },
  {
   "cell_type": "code",
   "execution_count": 73,
   "metadata": {},
   "outputs": [
    {
     "name": "stdout",
     "output_type": "stream",
     "text": [
      "True\n",
      "False\n"
     ]
    }
   ],
   "source": [
    "num: int = 5\n",
    "result: bool = num == 5 and num > 3 and num < 6 and num <= 6 and num >= 5\n",
    "#               True          True         True         True       True\n",
    "print(result)\n",
    "\n",
    "result: bool = num != 5 and num > 3 and num < 6 and num <= 6 and num >= 5\n",
    "#               False       True         True         True       True\n",
    "print(result)"
   ]
  },
  {
   "cell_type": "code",
   "execution_count": 76,
   "metadata": {},
   "outputs": [
    {
     "name": "stdout",
     "output_type": "stream",
     "text": [
      "True\n"
     ]
    }
   ],
   "source": [
    "num: int = 5\n",
    "result: bool = num != 5 or num < 3 or num > 6 or num >= 6 or num <= 5\n",
    "#               False        False      False     False       True\n",
    "print(result)"
   ]
  },
  {
   "cell_type": "code",
   "execution_count": 78,
   "metadata": {},
   "outputs": [
    {
     "name": "stdout",
     "output_type": "stream",
     "text": [
      "False\n",
      "False\n"
     ]
    }
   ],
   "source": [
    "num: int = 5\n",
    "result: bool = num != 5 or num < 3 or num > 6 or num >= 6 or num <= 5\n",
    "#               False        False      False     False       True\n",
    "print(not result)\n",
    "name : str = \"Yousuf\"\n",
    "print(not name)"
   ]
  },
  {
   "cell_type": "markdown",
   "metadata": {},
   "source": [
    "# Identity Operators\n",
    "* is \n",
    "* is not"
   ]
  },
  {
   "cell_type": "code",
   "execution_count": 83,
   "metadata": {},
   "outputs": [
    {
     "name": "stdout",
     "output_type": "stream",
     "text": [
      "True\n",
      "True\n",
      "False\n",
      "False\n"
     ]
    }
   ],
   "source": [
    "name : str = \"Yousuf\"\n",
    "name_1 : str = \"Yousuf\"\n",
    "name_2 : str = \"Qutubuddin\"\n",
    "print(name is name_1)\n",
    "print(name == name_1)\n",
    "\n",
    "print(name is name_2)\n",
    "print(name == name_2)"
   ]
  },
  {
   "cell_type": "code",
   "execution_count": 85,
   "metadata": {},
   "outputs": [
    {
     "name": "stdout",
     "output_type": "stream",
     "text": [
      "False\n",
      "True\n"
     ]
    }
   ],
   "source": [
    "name : str = \"Yousuf\"\n",
    "name_1 : str = \"Yousuf\"\n",
    "name_2 : str = \"Qutubuddin\"\n",
    "print(name is not name_1)\n",
    "print(name is not name_2)"
   ]
  },
  {
   "cell_type": "markdown",
   "metadata": {},
   "source": [
    "# Membership Operators\n",
    "* in \n",
    "* not in"
   ]
  },
  {
   "cell_type": "code",
   "execution_count": 87,
   "metadata": {},
   "outputs": [
    {
     "name": "stdout",
     "output_type": "stream",
     "text": [
      "True\n",
      "False\n"
     ]
    }
   ],
   "source": [
    "from typing import List\n",
    "names : List[str] = [\"Yousuf\", \"Hamza\", \"Sir Zia\", \"Sir Qasim\"]\n",
    "print(\"Sir Zia\" in names)\n",
    "print(\"Sir Ameen\" in names)"
   ]
  },
  {
   "cell_type": "code",
   "execution_count": 89,
   "metadata": {},
   "outputs": [
    {
     "name": "stdout",
     "output_type": "stream",
     "text": [
      "True\n",
      "False\n"
     ]
    }
   ],
   "source": [
    "from typing import List\n",
    "names : List[str] = [\"Yousuf\", \"Hamza\", \"Sir Zia\", \"Sir Qasim\"]\n",
    "print(\"Sir Ameen\" not in names)\n",
    "print(\"Sir Qasim\" not in names)"
   ]
  },
  {
   "cell_type": "code",
   "execution_count": 90,
   "metadata": {},
   "outputs": [
    {
     "name": "stdout",
     "output_type": "stream",
     "text": [
      "True\n"
     ]
    }
   ],
   "source": [
    "name = \"hamza\"\n",
    "print(\"a\" in name)"
   ]
  }
 ],
 "metadata": {
  "kernelspec": {
   "display_name": "Python 3",
   "language": "python",
   "name": "python3"
  },
  "language_info": {
   "codemirror_mode": {
    "name": "ipython",
    "version": 3
   },
   "file_extension": ".py",
   "mimetype": "text/x-python",
   "name": "python",
   "nbconvert_exporter": "python",
   "pygments_lexer": "ipython3",
   "version": "3.12.5"
  }
 },
 "nbformat": 4,
 "nbformat_minor": 2
}
